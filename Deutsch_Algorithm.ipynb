{
 "cells": [
  {
   "cell_type": "markdown",
   "metadata": {},
   "source": [
    "# The Deutsch Algorithm "
   ]
  },
  {
   "cell_type": "markdown",
   "metadata": {},
   "source": [
    "### Victor Onofre"
   ]
  },
  {
   "cell_type": "code",
   "execution_count": 1,
   "metadata": {},
   "outputs": [],
   "source": [
    "from qiskit import QuantumCircuit, QuantumRegister, ClassicalRegister, execute, Aer, IBMQ, BasicAer\n",
    "from qiskit.visualization import plot_bloch_multivector,plot_bloch_vector, plot_histogram\n",
    "from qiskit.quantum_info import Statevector\n",
    "import numpy as np \n",
    "import matplotlib"
   ]
  },
  {
   "cell_type": "markdown",
   "metadata": {},
   "source": [
    "The QasmSimulator backend is designed to mimic an actual device. It executes a Qiskit QuantumCircuit and returns a count dictionary containing the final values of any classical registers in the circuit."
   ]
  },
  {
   "cell_type": "code",
   "execution_count": 2,
   "metadata": {},
   "outputs": [],
   "source": [
    "backend = BasicAer.get_backend('qasm_simulator')\n",
    "shots = 1024"
   ]
  },
  {
   "cell_type": "code",
   "execution_count": 3,
   "metadata": {},
   "outputs": [],
   "source": [
    "style = {'backgroundcolor': 'lightyellow'} # Style of the circuits"
   ]
  },
  {
   "cell_type": "markdown",
   "metadata": {},
   "source": [
    "The problem solved by the Deutsch algorithm is the following. We are given a device that computes some function $f: \\{0,1 \\} \\rightarrow \\{0,1\\}$. We can think of the device as a black box or \"oracle\".This means that we can apply the circuit to obtain values of $f(x)$ for given inputs $x$, but we cannot gain any information about the inner workings of the circuit to learn about the function $f$. There are 4 possible funcions from $\\{0,1 \\}$ to $\\{0,1\\}$, $f_{0}$, $f_{1}$, $f_{2}$ and $f_{3}$."
   ]
  },
  {
   "cell_type": "markdown",
   "metadata": {},
   "source": [
    "**$f(x)$ is constant $\\Big( f_{i}(0) = f_{i}(1) \\Big)$ or balanced $\\Big(  f_{i}(0) \\neq f_{i}(1) \\Big) $?**"
   ]
  },
  {
   "cell_type": "markdown",
   "metadata": {},
   "source": [
    "| Function $f_{i}(x)$  &nbsp; &nbsp; &nbsp; |  $x = 0$       &nbsp; &nbsp; &nbsp; &nbsp; &nbsp; &nbsp; &nbsp; &nbsp; &nbsp;     | $x =1$    &nbsp; &nbsp; &nbsp; &nbsp; &nbsp; &nbsp; &nbsp; &nbsp; &nbsp;               | $f_{i}(0) \\oplus    f_{i}(1)$     &nbsp; &nbsp; &nbsp; &nbsp; &nbsp; &nbsp; &nbsp; &nbsp; &nbsp; &nbsp; &nbsp; &nbsp;  &nbsp; &nbsp; &nbsp;        |\n",
    "|:------------------------:|:--------------------:|:----------------------:|:----------------------------------------------:|\n",
    "|          $f_{0}$         |           0          |            0           |                        0                       |\n",
    "|          $f_{1}$         |           0          |            1           |                        1                       |\n",
    "|          $f_{2}$         |           1          |            0           |                        1                       |\n",
    "|          $f_{3}$         |           1          |            1           |                        0                       ||"
   ]
  },
  {
   "cell_type": "markdown",
   "metadata": {},
   "source": [
    "The problem is to determine the value of $f_{i}(0) \\oplus  f_{i}(1)$. If we determine that $f(0) \\oplus f(1) = 0$, then we known that $f$ is constant $\\Big( f(0) = f(1) \\Big) $. If  $f(0) \\oplus f(1) = 1$  then we known that $f$ is balanced $\\Big(  f(0) \\neq f(1) \\Big) $. In particular $f_{0}$ and $f_{3}$ are constant and $f_{1}$ and $f_{2}$ are balanced."
   ]
  },
  {
   "cell_type": "markdown",
   "metadata": {},
   "source": [
    "Classically, **two** evaluations or query of the function are necessary to answer the question. If only one evaluation is permitted, the function could still be either constant or balanced regardless of the input and output obtained."
   ]
  },
  {
   "cell_type": "markdown",
   "metadata": {},
   "source": [
    "The Deutsch algorithm is a quantum algorithm capable of determining the value of $f_{i}(0) \\oplus  f_{i}(1)$ by making only a single query to a quantum oracle for $f$."
   ]
  },
  {
   "cell_type": "markdown",
   "metadata": {},
   "source": [
    "The oracle can be expressed as a unitary operator"
   ]
  },
  {
   "cell_type": "markdown",
   "metadata": {},
   "source": [
    "$$ U_{f} \\vert  x\\rangle_{A}  \\vert  y \\rangle_{B} =  \\vert  x \\rangle_{A} \\vert y \\oplus f(x) \\rangle_{B} $$"
   ]
  },
  {
   "cell_type": "code",
   "execution_count": 4,
   "metadata": {},
   "outputs": [],
   "source": [
    "qreg1 = QuantumRegister(2)\n",
    "register1 = ClassicalRegister(1) \n",
    "\n",
    "qc = QuantumCircuit(qreg1, register1)"
   ]
  },
  {
   "cell_type": "markdown",
   "metadata": {},
   "source": [
    "## Initial state"
   ]
  },
  {
   "cell_type": "code",
   "execution_count": 5,
   "metadata": {},
   "outputs": [
    {
     "data": {
      "image/png": "[encoded data removed]",
      "text/plain": [
       "<Figure size 309.428x204.68 with 1 Axes>"
      ]
     },
     "execution_count": 5,
     "metadata": {},
     "output_type": "execute_result"
    }
   ],
   "source": [
    "#qc.x(0)\n",
    "qc.x(1)\n",
    "qc.barrier()\n",
    "qc.draw(output='mpl', style=style) "
   ]
  },
  {
   "cell_type": "markdown",
   "metadata": {},
   "source": [
    "The initial stae is $ \\vert 0 \\rangle \\vert 0 \\rangle$, we apply the $x$ gate to the second qubit and obtain $ \\vert \\psi_{0} \\rangle =  \\vert 0 \\rangle \\vert 1 \\rangle$"
   ]
  },
  {
   "cell_type": "markdown",
   "metadata": {},
   "source": [
    "$$ \\vert \\psi_{0}  \\rangle_{AB} =  \\vert 0  \\rangle_{A} X \\vert 0  \\rangle_{B}=  \\vert 0  \\rangle_{A} \\vert 1 \\rangle_{B} $$"
   ]
  },
  {
   "cell_type": "markdown",
   "metadata": {},
   "source": [
    "## Apply Hadamard gates"
   ]
  },
  {
   "cell_type": "code",
   "execution_count": 6,
   "metadata": {},
   "outputs": [
    {
     "data": {
      "image/png": "[encoded data removed]",
      "text/plain": [
       "<Figure size 429.828x204.68 with 1 Axes>"
      ]
     },
     "execution_count": 6,
     "metadata": {},
     "output_type": "execute_result"
    }
   ],
   "source": [
    "qc.h(0)\n",
    "qc.h(1)\n",
    "qc.barrier()\n",
    "qc.draw(output='mpl', style=style) "
   ]
  },
  {
   "cell_type": "markdown",
   "metadata": {},
   "source": [
    "After the Hadamard gate is apply to $\\vert \\psi_{0} \\rangle_{AB}$, the state becomes"
   ]
  },
  {
   "cell_type": "markdown",
   "metadata": {},
   "source": [
    "$$ \\vert \\psi_{1} \\rangle_{AB} = (H \\otimes H) \\vert \\psi_{0} \\rangle_{AB} = H \\vert 0 \\rangle_{A} H \\vert 1 \\rangle_{B}= \\Big( \\frac{1}{\\sqrt{2}} \\vert 0 \\rangle_{A} + \\frac{1}{\\sqrt{2}} \\vert 1 \\rangle_{A} \\Big) \\Big( \\frac{1}{\\sqrt{2}} \\vert 0 \\rangle_{B}  - \\frac{1}{\\sqrt{2}} \\vert 1 \\rangle_{B} \\Big)$$\n",
    "\n",
    "$$ =  \\frac{1}{2} \\vert 0 \\rangle_{A} \\Big(   \\vert 0 \\rangle_{B} -  \\vert 1 \\rangle_{B} \\Big)  +  \\frac{1}{2} \\vert 1 \\rangle_{A} \\Big(  \\vert 0 \\rangle_{B} -  \\vert 1 \\rangle_{B} \\Big)  $$"
   ]
  },
  {
   "cell_type": "markdown",
   "metadata": {},
   "source": [
    "## Oracle $U_{f}$"
   ]
  },
  {
   "cell_type": "markdown",
   "metadata": {},
   "source": [
    "Applying the $U_{f}$ oracle, we have the state:"
   ]
  },
  {
   "cell_type": "markdown",
   "metadata": {},
   "source": [
    "$$ \\vert \\psi_{2} \\rangle_{AB}  = U_{f} \\vert \\psi_{1} \\rangle_{AB}  =  \\frac{1}{2} \\vert 0 \\rangle_{A}  \\Big(  \\vert 0 \\oplus f(0) \\rangle_{B} -  \\vert 1 \\oplus f(0) \\rangle_{B} \\Big)  +  \\frac{1}{2} \\vert 1 \\rangle_{A}  \\Big( \\vert 0 \\oplus f(1)\\rangle_{B} -  \\vert 1 \\oplus f(1)  \\rangle_{B} \\Big)  $$"
   ]
  },
  {
   "cell_type": "markdown",
   "metadata": {},
   "source": [
    "Using $ \\vert 0 \\oplus a \\rangle -  \\vert 1 \\oplus a \\rangle = (-1)^{a} (\\vert  0 \\rangle - \\vert 1 \\rangle ) $"
   ]
  },
  {
   "cell_type": "markdown",
   "metadata": {},
   "source": [
    "$$  \\vert \\psi_{2}\\rangle_{AB}  =  \\frac{1}{2} (-1)^{f(0)} \\vert 0 \\rangle_{A}  \\Big( \\vert 0 \\rangle_{B} - \\vert 1 \\rangle_{B} \\Big)  +  \\frac{1}{2} (-1)^{f(1)} \\vert 1 \\rangle_{A} \\Big( \\vert 0 \\rangle_{B} -  \\vert 1 \\rangle_{B} \\Big)  =  \\Big( \\frac{1}{\\sqrt{2}} (-1)^{f(0)} \\vert 0 \\rangle_{A}  +   \\frac{1}{\\sqrt{2}} (-1)^{f(1)} \\vert 1 \\rangle_{A}  \\Big)  \\Big( \\frac{1}{\\sqrt{2}} \\vert 0 \\rangle_{B} - \\frac{1}{\\sqrt{2}}\\vert 1 \\rangle_{B} \\Big)  $$\n",
    "\n",
    "\n",
    "$$  =  (-1)^{f(0)} \\Big( \\frac{1}{\\sqrt{2}}  \\vert 0 \\rangle_{A}  +   \\frac{1}{\\sqrt{2}} (-1)^{f(0) \\oplus f(1)} \\vert 1 \\rangle_{A}  \\Big)  \\Big( \\frac{1}{\\sqrt{2}} \\vert 0 \\rangle_{B} - \\frac{1}{\\sqrt{2}}\\vert 1 \\rangle_{B} \\Big)  $$"
   ]
  },
  {
   "cell_type": "markdown",
   "metadata": {},
   "source": [
    "## Function f(x) constant"
   ]
  },
  {
   "cell_type": "markdown",
   "metadata": {},
   "source": [
    "If $U_{f}$ is constant $f(0) \\oplus f(1) = 0$ then\n",
    "\n",
    "$$ \\vert \\psi_{2} \\rangle_{AB}  =  (-1)^{f(0)} \\Big( \\frac{1}{\\sqrt{2}}  \\vert 0 \\rangle_{A}  +   \\frac{1}{\\sqrt{2}} (-1)^{0} \\vert 1 \\rangle_{A}  \\Big) \\Big( \\frac{1}{\\sqrt{2}}\\vert 0 \\rangle_{B} - \\frac{1}{\\sqrt{2}}\\vert 1 \\rangle_{B} \\Big)  =  (-1)^{f(0)} \\Big( \\frac{1}{\\sqrt{2}}  \\vert 0 \\rangle_{A}  +   \\frac{1}{\\sqrt{2}} \\vert 1 \\rangle_{A}  \\Big) \\Big( \\frac{1}{\\sqrt{2}}\\vert 0 \\rangle_{B} - \\frac{1}{\\sqrt{2}}\\vert 1 \\rangle_{B} \\Big)  $$"
   ]
  },
  {
   "cell_type": "markdown",
   "metadata": {},
   "source": [
    "Applying the Hadamard gate to the first ($A$) qubit "
   ]
  },
  {
   "cell_type": "markdown",
   "metadata": {},
   "source": [
    "$$  \\vert \\psi_{3} \\rangle_{AB} =  (-1)^{f(0)} \\Big( \\frac{1}{\\sqrt{2}}  H \\vert 0 \\rangle_{A}  +   \\frac{1}{\\sqrt{2}} H \\vert 1 \\rangle_{A}  \\Big) \\Big( \\frac{1}{\\sqrt{2}} \\vert 0 \\rangle_{B} - \\frac{1}{\\sqrt{2}} \\vert 1 \\rangle_{B} \\Big)  $$\n",
    "\n",
    "$$  =  (-1)^{f(0)} \\Big[ \\frac{1}{\\sqrt{2}} \\Big(  \\frac{1}{\\sqrt{2}} \\vert 0 \\rangle_{A} + \\frac{1}{\\sqrt{2}}\\vert 1 \\rangle_{A} \\Big)  +   \\frac{1}{\\sqrt{2}} \\Big( \\frac{1}{\\sqrt{2}} \\vert 0\\rangle_{A} - \\frac{1}{\\sqrt{2}} \\vert 1\\rangle_{A} \\Big)  \\Big] \\Big( \\frac{1}{\\sqrt{2}}\\vert 0 \\rangle_{B} - \\frac{1}{\\sqrt{2}} \\vert 1 \\rangle_{B} \\Big)  $$\n",
    "\n",
    "$$  =  (-1)^{f(0)} \\Big[  \\Big(  \\frac{1}{2} \\vert  0 \\rangle_{A} + \\frac{1}{2} \\vert 1 \\rangle_{A} \\Big)  +  \\Big( \\frac{1}{2} \\vert  0 \\rangle_{A} - \\frac{1}{2} \\vert  1 \\rangle_{A} \\Big)  \\Big] \\Big( \\frac{1}{\\sqrt{2}} \\vert  0 \\rangle_{B} - \\frac{1}{\\sqrt{2}} \\vert  1 \\rangle_{B} \\Big)  $$\n",
    "\n",
    "$$  =  (-1)^{f(0)} \\vert  0 \\rangle_{A} \\Big( \\frac{1}{\\sqrt{2}} \\vert  0\\rangle_{B} - \\frac{1}{\\sqrt{2}} \\vert  1\\rangle_{B} \\Big)  $$"
   ]
  },
  {
   "cell_type": "markdown",
   "metadata": {},
   "source": [
    "The probability of measure $\\vert 0  \\rangle_{A}$ in the first qubit is 1. This means that for a **constant** function, a measurement of the first qubit is certain to return $\\vert 0  \\rangle$"
   ]
  },
  {
   "cell_type": "markdown",
   "metadata": {},
   "source": [
    "## Function f(x) balanced"
   ]
  },
  {
   "cell_type": "markdown",
   "metadata": {},
   "source": [
    "If $U_{f}$ is balance $f(0) \\oplus f(1) = 1$ then\n",
    "\n",
    "$$ \\vert \\psi_{2}>_{AB}  =  (-1)^{f(0)} \\Big( \\frac{1}{\\sqrt{2}}  \\vert 0 \\rangle_{A}  +   \\frac{1}{\\sqrt{2}} (-1)^{1} \\vert 1 \\rangle_{A}  \\Big) \\Big( \\frac{1}{\\sqrt{2}}\\vert 0 \\rangle_{B} - \\frac{1}{\\sqrt{2}}\\vert 1 \\rangle_{B} \\Big) $$\n",
    "\n",
    "$$  =  (-1)^{f(0)} \\Big( \\frac{1}{\\sqrt{2}}  \\vert 0 \\rangle_{A}  -  \\frac{1}{\\sqrt{2}} \\vert 1 \\rangle_{A}   \\Big) \\Big( \\frac{1}{\\sqrt{2}}\\vert 0 \\rangle_{B}  - \\frac{1}{\\sqrt{2}}\\vert 1 \\rangle_{B}  \\Big)  $$"
   ]
  },
  {
   "cell_type": "markdown",
   "metadata": {},
   "source": [
    "Apply the Hadamard gate to the first ($A$) qubit"
   ]
  },
  {
   "cell_type": "markdown",
   "metadata": {},
   "source": [
    "$$  \\vert \\psi_{3}>_{AB}  =  (-1)^{f(0)} \\Big( \\frac{1}{\\sqrt{2}}  H \\vert  0 \\rangle_{A}  -   \\frac{1}{\\sqrt{2}} H \\vert 1 \\rangle_{A}  \\Big) \\Big( \\frac{1}{\\sqrt{2}} \\vert  0 \\rangle_{B} - \\frac{1}{\\sqrt{2}} \\vert  1 \\rangle_{B} \\Big)  $$\n",
    "\n",
    "$$  =  (-1)^{f(0)} \\Big[ \\frac{1}{\\sqrt{2}} \\Big(  \\frac{1}{\\sqrt{2}}\\vert  0 \\rangle_{A} + \\frac{1}{\\sqrt{2}}\\vert  1 \\rangle_{A} \\Big)  -  \\frac{1}{\\sqrt{2}} \\Big( \\frac{1}{\\sqrt{2}}\\vert  0 \\rangle_{A} - \\frac{1}{\\sqrt{2}} \\vert  1 \\rangle_{A} \\Big)  \\Big] \\Big( \\frac{1}{\\sqrt{2}}\\vert  0 \\rangle_{B} - \\frac{1}{\\sqrt{2}}\\vert  1 \\rangle_{B} \\Big)  $$\n",
    "\n",
    "$$  =  (-1)^{f(0)} \\Big[  \\Big(  \\frac{1}{2} \\vert 0 \\rangle_{A} + \\frac{1}{2} \\vert 1 \\rangle_{A} \\Big)  -  \\Big( \\frac{1}{2} \\vert 0 \\rangle_{A} - \\frac{1}{2} \\vert 1 \\rangle_{A} \\Big)  \\Big] \\Big( \\frac{1}{\\sqrt{2}} \\vert 0 \\rangle_{B} - \\frac{1}{\\sqrt{2}} \\vert 1 \\rangle_{B} \\Big)  $$\n",
    "\n",
    "$$  =  (-1)^{f(0)} \\vert 1 \\rangle_{A} \\Big( \\frac{1}{\\sqrt{2}}\\vert 0 \\rangle_{B} - \\frac{1}{\\sqrt{2}} \\vert 1 \\rangle_{B} \\Big)  $$"
   ]
  },
  {
   "cell_type": "markdown",
   "metadata": {},
   "source": [
    "The probability of measure $\\vert 1  \\rangle_{A}$ in the first qubit is 1. This means that for a **balanced** function, a measurement of the first qubit is certain to return $\\vert 1  \\rangle$"
   ]
  },
  {
   "cell_type": "markdown",
   "metadata": {},
   "source": [
    "## Implemented a balanced oracle (CNOT)"
   ]
  },
  {
   "cell_type": "markdown",
   "metadata": {},
   "source": [
    "In this case, we can implement the CNOT gate as a balanced oracle. "
   ]
  },
  {
   "cell_type": "markdown",
   "metadata": {},
   "source": [
    "$$U_{f} \\vert 0 0 \\rangle =  CNOT \\vert 0 0 \\rangle = \\vert 0 0 \\rangle  $$\n",
    "\n",
    "$$U_{f} \\vert 0 1 \\rangle =  CNOT \\vert 0 1 \\rangle = \\vert 0 1 \\rangle  $$\n",
    "\n",
    "$$U_{f} \\vert 1 0 \\rangle =  CNOT \\vert  1 0 \\rangle = \\vert 1 1 \\rangle  $$\n",
    "\n",
    "$$U_{f} \\vert 1 1 \\rangle =  CNOT \\vert 1 1 \\rangle = \\vert 1 0 \\rangle  $$"
   ]
  },
  {
   "cell_type": "markdown",
   "metadata": {},
   "source": [
    "The initial state can be described as:"
   ]
  },
  {
   "cell_type": "markdown",
   "metadata": {},
   "source": [
    "$$ \\vert \\psi_{1} \\rangle_{AB} = (H \\otimes H) \\vert \\psi_{0} \\rangle_{AB} = H \\vert 0 \\rangle_{A} H \\vert 1 \\rangle_{B}= \\Big( \\frac{1}{\\sqrt{2}} \\vert 0 \\rangle_{A} + \\frac{1}{\\sqrt{2}} \\vert 1 \\rangle_{A} \\Big) \\Big( \\frac{1}{\\sqrt{2}} \\vert 0 \\rangle_{B}  - \\frac{1}{\\sqrt{2}} \\vert 1 \\rangle_{B} \\Big) =  \\vert + \\rangle_{A}   \\vert -\\rangle_{B}  =  \\vert + -\\rangle_{AB} $$\n",
    "\n",
    "where \n",
    "\n",
    "$$ \\vert + \\rangle  =  \\frac{1}{\\sqrt{2}} \\vert 0 \\rangle + \\frac{1}{\\sqrt{2}} \\vert 1 \\rangle  $$\n",
    "\n",
    "$$ \\vert - \\rangle  =  \\frac{1}{\\sqrt{2}} \\vert 0 \\rangle - \\frac{1}{\\sqrt{2}} \\vert 1 \\rangle  $$"
   ]
  },
  {
   "cell_type": "markdown",
   "metadata": {},
   "source": [
    "$$ \\vert \\psi_{1} \\rangle_{AB} =  \\frac{1}{2} \\vert 0 \\rangle_{A} \\Big(   \\vert 0 \\rangle_{B} -  \\vert 1 \\rangle_{B} \\Big)  +  \\frac{1}{2} \\vert 1 \\rangle_{A} \\Big(  \\vert 0 \\rangle_{B} -  \\vert 1 \\rangle_{B} \\Big)  $$\n",
    "\n",
    "$$ \\vert \\psi_{1} \\rangle_{AB} =  \\frac{1}{2} \\Big(  \\vert 0 0 \\rangle - \\vert 0 1 \\rangle + \\vert 1 0 \\rangle - \\vert 1 1 \\rangle \\Big)  $$"
   ]
  },
  {
   "cell_type": "code",
   "execution_count": 7,
   "metadata": {},
   "outputs": [
    {
     "data": {
      "image/png": "[encoded data removed]",
      "text/plain": [
       "<Figure size 550.228x204.68 with 1 Axes>"
      ]
     },
     "execution_count": 7,
     "metadata": {},
     "output_type": "execute_result"
    }
   ],
   "source": [
    "qc.cx(0,1)\n",
    "qc.barrier()\n",
    "qc.draw(output='mpl', style=style) "
   ]
  },
  {
   "cell_type": "markdown",
   "metadata": {},
   "source": [
    "$$  \\vert \\psi_{2} \\rangle_{AB}  = CNOT \\vert \\psi_{1} \\rangle_{AB} =  \\frac{1}{2} \\Big(  \\vert 0 0 \\rangle - \\vert 0 1 \\rangle + \\vert 1 1 \\rangle - \\vert 1 0 \\rangle \\Big)= \\vert -  \\rangle_{A} \\vert - \\rangle_{B}    = \\vert - - \\rangle_{AB}   $$"
   ]
  },
  {
   "cell_type": "markdown",
   "metadata": {},
   "source": [
    "## Apply the Hadamard gate to the first ($A$) qubit"
   ]
  },
  {
   "cell_type": "code",
   "execution_count": 8,
   "metadata": {},
   "outputs": [
    {
     "data": {
      "image/png": "[encoded data removed]",
      "text/plain": [
       "<Figure size 610.428x204.68 with 1 Axes>"
      ]
     },
     "execution_count": 8,
     "metadata": {},
     "output_type": "execute_result"
    }
   ],
   "source": [
    "qc.h(0)\n",
    "qc.draw(output='mpl', style=style) "
   ]
  },
  {
   "cell_type": "markdown",
   "metadata": {},
   "source": [
    "$$  \\vert \\psi_{3} \\rangle_{AB}  = (H \\otimes I ) \\vert \\psi_{2} \\rangle_{AB} =   (H\\vert -  \\rangle_{A}) \\vert - \\rangle_{B}   = \\vert 1  \\rangle_{A} \\vert - \\rangle_{B}   $$"
   ]
  },
  {
   "cell_type": "markdown",
   "metadata": {},
   "source": [
    "The probability of measure $\\vert 1  \\rangle_{A}$ in the first qubit is 1. Confirming that CNOT is a balacend oracle."
   ]
  },
  {
   "cell_type": "code",
   "execution_count": 9,
   "metadata": {},
   "outputs": [
    {
     "data": {
      "image/png": "[encoded data removed]",
      "text/plain": [
       "<Figure size 670.628x204.68 with 1 Axes>"
      ]
     },
     "execution_count": 9,
     "metadata": {},
     "output_type": "execute_result"
    }
   ],
   "source": [
    "qc.measure(qreg1[0],register1)\n",
    "qc.draw(output='mpl', style=style) "
   ]
  },
  {
   "cell_type": "markdown",
   "metadata": {},
   "source": [
    "## Execute and get counts"
   ]
  },
  {
   "cell_type": "code",
   "execution_count": 10,
   "metadata": {},
   "outputs": [
    {
     "data": {
      "image/png": "[encoded data removed]",
      "text/plain": [
       "<Figure size 504x360 with 1 Axes>"
      ]
     },
     "execution_count": 10,
     "metadata": {},
     "output_type": "execute_result"
    }
   ],
   "source": [
    "results = execute(qc, backend=backend, shots=shots).result()\n",
    "answer = results.get_counts()\n",
    "\n",
    "plot_histogram(answer)"
   ]
  },
  {
   "cell_type": "markdown",
   "metadata": {},
   "source": [
    "As expected we obtain $1$ with probability 1"
   ]
  },
  {
   "cell_type": "markdown",
   "metadata": {},
   "source": [
    "## Putting all together in a function"
   ]
  },
  {
   "cell_type": "markdown",
   "metadata": {},
   "source": [
    "Balanced oracle 1 : CNOT"
   ]
  },
  {
   "cell_type": "code",
   "execution_count": 11,
   "metadata": {},
   "outputs": [],
   "source": [
    "def oracleBalance1(qcir):\n",
    "    qcir.cx(0,1)\n",
    "    qcir.barrier()\n",
    "    \n",
    "    return qcir  "
   ]
  },
  {
   "cell_type": "markdown",
   "metadata": {},
   "source": [
    "Balanced oracle 2 : CNOT ($I \\otimes x$)"
   ]
  },
  {
   "cell_type": "code",
   "execution_count": 12,
   "metadata": {},
   "outputs": [],
   "source": [
    "def oracleBalance2(qcir):\n",
    "    qcir.x(1)\n",
    "    qcir.cx(0,1)\n",
    "    qcir.barrier()\n",
    "    \n",
    "    return qcir  "
   ]
  },
  {
   "cell_type": "markdown",
   "metadata": {},
   "source": [
    "Constant oracle 1: ($I \\otimes x$)"
   ]
  },
  {
   "cell_type": "code",
   "execution_count": 13,
   "metadata": {},
   "outputs": [],
   "source": [
    "def oracleConstant1(qcir):\n",
    "    \n",
    "    qcir.x(1)\n",
    "    qcir.barrier()\n",
    "    \n",
    "    return qcir  "
   ]
  },
  {
   "cell_type": "markdown",
   "metadata": {},
   "source": [
    "Constant oracle 2: ($I \\otimes I$)"
   ]
  },
  {
   "cell_type": "code",
   "execution_count": 14,
   "metadata": {},
   "outputs": [],
   "source": [
    "def oracleConstant2(qcir):\n",
    "    \n",
    "    qcir.barrier()\n",
    "    \n",
    "    return qcir  "
   ]
  },
  {
   "cell_type": "markdown",
   "metadata": {},
   "source": [
    "Function to determine if a oracle is constant of balanced"
   ]
  },
  {
   "cell_type": "code",
   "execution_count": 15,
   "metadata": {},
   "outputs": [],
   "source": [
    "def deutsch(oracle):\n",
    "    \n",
    "    Qreg = QuantumRegister(2)\n",
    "    Creg = ClassicalRegister(1) \n",
    "    qcirc = QuantumCircuit(Qreg, Creg)\n",
    "    \n",
    "    qcirc.x(1)\n",
    "    \n",
    "    qcirc.h(0)\n",
    "    qcirc.h(1)\n",
    "    qcirc.barrier()\n",
    "    \n",
    "    qcirc = oracle(qcirc)\n",
    "    \n",
    "    qcirc.h(0)\n",
    "    qcirc.barrier()\n",
    "    \n",
    "    qcirc.measure(Qreg[0],Creg)\n",
    "   \n",
    "    return qcirc"
   ]
  },
  {
   "cell_type": "markdown",
   "metadata": {},
   "source": [
    "**Balanced oracle 1**"
   ]
  },
  {
   "cell_type": "code",
   "execution_count": 16,
   "metadata": {},
   "outputs": [
    {
     "data": {
      "image/png": "[encoded data removed]",
      "text/plain": [
       "<Figure size 670.628x204.68 with 1 Axes>"
      ]
     },
     "execution_count": 16,
     "metadata": {},
     "output_type": "execute_result"
    }
   ],
   "source": [
    "resultBalanced1 = deutsch(oracleBalance1)\n",
    "resultBalanced1.draw(output='mpl', style=style)"
   ]
  },
  {
   "cell_type": "code",
   "execution_count": 18,
   "metadata": {},
   "outputs": [
    {
     "data": {
      "image/png": "[encoded data removed]",
      "text/plain": [
       "<Figure size 504x360 with 1 Axes>"
      ]
     },
     "execution_count": 18,
     "metadata": {},
     "output_type": "execute_result"
    }
   ],
   "source": [
    "resultsB1 = execute(resultBalanced1, backend=backend, shots=shots).result()\n",
    "answerB1 = resultsB1.get_counts()\n",
    "\n",
    "plot_histogram(answerB1)"
   ]
  },
  {
   "cell_type": "markdown",
   "metadata": {},
   "source": [
    "**Balanced oracle 2**"
   ]
  },
  {
   "cell_type": "code",
   "execution_count": 19,
   "metadata": {},
   "outputs": [
    {
     "data": {
      "image/png": "[encoded data removed]",
      "text/plain": [
       "<Figure size 670.628x204.68 with 1 Axes>"
      ]
     },
     "execution_count": 19,
     "metadata": {},
     "output_type": "execute_result"
    }
   ],
   "source": [
    "resultBalanced2 = deutsch(oracleBalance1)\n",
    "resultBalanced2.draw(output='mpl', style=style)"
   ]
  },
  {
   "cell_type": "code",
   "execution_count": 20,
   "metadata": {},
   "outputs": [
    {
     "data": {
      "image/png": "[encoded data removed]",
      "text/plain": [
       "<Figure size 504x360 with 1 Axes>"
      ]
     },
     "execution_count": 20,
     "metadata": {},
     "output_type": "execute_result"
    }
   ],
   "source": [
    "resultsB2 = execute(resultBalanced2, backend=backend, shots=shots).result()\n",
    "answerB2 = resultsB2.get_counts()\n",
    "\n",
    "plot_histogram(answerB2)"
   ]
  },
  {
   "cell_type": "markdown",
   "metadata": {},
   "source": [
    "**Constant oracle 1**"
   ]
  },
  {
   "cell_type": "code",
   "execution_count": 21,
   "metadata": {},
   "outputs": [
    {
     "data": {
      "image/png": "[encoded data removed]",
      "text/plain": [
       "<Figure size 670.628x204.68 with 1 Axes>"
      ]
     },
     "execution_count": 21,
     "metadata": {},
     "output_type": "execute_result"
    }
   ],
   "source": [
    "resultConstant1 = deutsch(oracleConstant1)\n",
    "resultConstant1.draw(output='mpl', style=style) "
   ]
  },
  {
   "cell_type": "code",
   "execution_count": 22,
   "metadata": {},
   "outputs": [
    {
     "data": {
      "image/png": "[encoded data removed]",
      "text/plain": [
       "<Figure size 504x360 with 1 Axes>"
      ]
     },
     "execution_count": 22,
     "metadata": {},
     "output_type": "execute_result"
    }
   ],
   "source": [
    "resultsC1= execute(resultConstant1, backend=backend, shots=shots).result()\n",
    "answerC1 = resultsC1.get_counts()\n",
    "\n",
    "plot_histogram(answerC1)"
   ]
  },
  {
   "cell_type": "markdown",
   "metadata": {},
   "source": [
    "**Constant oracle 2**"
   ]
  },
  {
   "cell_type": "code",
   "execution_count": 24,
   "metadata": {},
   "outputs": [
    {
     "data": {
      "image/png": "[encoded data removed]",
      "text/plain": [
       "<Figure size 610.428x204.68 with 1 Axes>"
      ]
     },
     "execution_count": 24,
     "metadata": {},
     "output_type": "execute_result"
    }
   ],
   "source": [
    "resultConstant2 = deutsch(oracleConstant2)\n",
    "resultConstant2.draw(output='mpl', style=style) "
   ]
  },
  {
   "cell_type": "code",
   "execution_count": 25,
   "metadata": {},
   "outputs": [
    {
     "data": {
      "image/png": "[encoded data removed]",
      "text/plain": [
       "<Figure size 504x360 with 1 Axes>"
      ]
     },
     "execution_count": 25,
     "metadata": {},
     "output_type": "execute_result"
    }
   ],
   "source": [
    "resultsC2= execute(resultConstant2, backend=backend, shots=shots).result()\n",
    "answerC2 = resultsC2.get_counts()\n",
    "\n",
    "plot_histogram(answerC2)"
   ]
  },
  {
   "cell_type": "markdown",
   "metadata": {},
   "source": [
    "### References:"
   ]
  },
  {
   "cell_type": "markdown",
   "metadata": {},
   "source": [
    "[1] Mermin N.D., Quantum Computer Science: An Introduction, Cambridge University Press, 2007 \n",
    "\n",
    "[2] Kaye, P. and Kaye, I.Q.C.P. and Laflamme, R. and Mosca, M. and Mosca, I.Q.C.M., An Introduction to Quantum Computing, OUP Oxford, 2007"
   ]
  },
  {
   "cell_type": "code",
   "execution_count": null,
   "metadata": {},
   "outputs": [],
   "source": []
  }
 ],
 "metadata": {
  "kernelspec": {
   "display_name": "Python 3",
   "language": "python",
   "name": "python3"
  },
  "language_info": {
   "codemirror_mode": {
    "name": "ipython",
    "version": 3
   },
   "file_extension": ".py",
   "mimetype": "text/x-python",
   "name": "python",
   "nbconvert_exporter": "python",
   "pygments_lexer": "ipython3",
   "version": "3.8.3"
  }
 },
 "nbformat": 4,
 "nbformat_minor": 4
}
