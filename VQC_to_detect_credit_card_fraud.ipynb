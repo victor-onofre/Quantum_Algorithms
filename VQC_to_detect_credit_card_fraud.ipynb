{
 "cells": [
  {
   "cell_type": "markdown",
   "metadata": {},
   "source": [
    "# Variational Quantum classifier to detect credit card fraud \n",
    "\n",
    "### **Victor Onofre**"
   ]
  },
  {
   "cell_type": "markdown",
   "metadata": {},
   "source": [
    "Any sort of ilicit/illegal activity by an individual in order to obatain unauthorized funds using credit card from the account for whom it was not intended to is defined as fradulent activity in credit card transcaction. \n",
    "\n",
    "Challenges for fraud detection:\n",
    "\n",
    "1. Limited number of variables is made available due to high confidentiality.\n",
    "2. The behaviour and pattern of fraud keeps changing\n",
    "3. It is requiered to deal with massive amount of data\n",
    "\n",
    "Classification is one of the widely used techniques for building fraud detection models. Decision trees, Bayesian Classifieres, neural networks, logistic regression, nearest neighbors and support vector machines are the main classification methods that are in use."
   ]
  },
  {
   "cell_type": "code",
   "execution_count": 1,
   "metadata": {},
   "outputs": [],
   "source": [
    "import numpy as np \n",
    "import pandas as pd \n",
    "\n",
    "import warnings \n",
    "warnings.filterwarnings('ignore')\n",
    "import matplotlib.pyplot as plt\n",
    "from collections import Counter\n",
    "from sklearn.linear_model import LogisticRegression\n",
    "from sklearn.svm import SVC, LinearSVC\n",
    "from sklearn.tree import DecisionTreeClassifier\n",
    "from sklearn.preprocessing import RobustScaler\n",
    "import matplotlib.pyplot as plt\n",
    "%matplotlib inline\n",
    "import seaborn as sns\n",
    "from sklearn.model_selection import train_test_split\n",
    "from sklearn.metrics import roc_auc_score\n",
    "from sklearn.metrics import accuracy_score"
   ]
  },
  {
   "cell_type": "markdown",
   "metadata": {},
   "source": [
    "# Part I: Data Exploration"
   ]
  },
  {
   "cell_type": "markdown",
   "metadata": {},
   "source": [
    "https://www.kaggle.com/mlg-ulb/creditcardfraud\n",
    "\n",
    "The dataset contains transactions made by credit cards in September 2013 by European cardholders.\n",
    "This dataset presents transactions that occurred in two days, where we have 492 frauds out of 284,807 transactions. The dataset is highly unbalanced, the positive class (frauds) account for 0.172% of all transactions.\n",
    "\n",
    "It contains only numerical input variables which are the result of a PCA transformation. Unfortunately, due to confidentiality issues, we cannot provide the original features and more background information about the data. Features V1, V2, … V28 are the principal components obtained with PCA, the only features which have not been transformed with PCA are 'Time' and 'Amount'. Feature 'Time' contains the seconds elapsed between each transaction and the first transaction in the dataset. The feature 'Amount' is the transaction Amount, this feature can be used for example-dependant cost-sensitive learning. Feature 'Class' is the response variable and it takes value 1 in case of fraud and 0 otherwise."
   ]
  },
  {
   "cell_type": "code",
   "execution_count": 2,
   "metadata": {},
   "outputs": [
    {
     "data": {
      "text/html": [
       "<div>\n",
       "<style scoped>\n",
       "    .dataframe tbody tr th:only-of-type {\n",
       "        vertical-align: middle;\n",
       "    }\n",
       "\n",
       "    .dataframe tbody tr th {\n",
       "        vertical-align: top;\n",
       "    }\n",
       "\n",
       "    .dataframe thead th {\n",
       "        text-align: right;\n",
       "    }\n",
       "</style>\n",
       "<table border=\"1\" class=\"dataframe\">\n",
       "  <thead>\n",
       "    <tr style=\"text-align: right;\">\n",
       "      <th></th>\n",
       "      <th>Time</th>\n",
       "      <th>V1</th>\n",
       "      <th>V2</th>\n",
       "      <th>V3</th>\n",
       "      <th>V4</th>\n",
       "      <th>V5</th>\n",
       "      <th>V6</th>\n",
       "      <th>V7</th>\n",
       "      <th>V8</th>\n",
       "      <th>V9</th>\n",
       "      <th>...</th>\n",
       "      <th>V21</th>\n",
       "      <th>V22</th>\n",
       "      <th>V23</th>\n",
       "      <th>V24</th>\n",
       "      <th>V25</th>\n",
       "      <th>V26</th>\n",
       "      <th>V27</th>\n",
       "      <th>V28</th>\n",
       "      <th>Amount</th>\n",
       "      <th>Class</th>\n",
       "    </tr>\n",
       "  </thead>\n",
       "  <tbody>\n",
       "    <tr>\n",
       "      <th>0</th>\n",
       "      <td>0.0</td>\n",
       "      <td>-1.359807</td>\n",
       "      <td>-0.072781</td>\n",
       "      <td>2.536347</td>\n",
       "      <td>1.378155</td>\n",
       "      <td>-0.338321</td>\n",
       "      <td>0.462388</td>\n",
       "      <td>0.239599</td>\n",
       "      <td>0.098698</td>\n",
       "      <td>0.363787</td>\n",
       "      <td>...</td>\n",
       "      <td>-0.018307</td>\n",
       "      <td>0.277838</td>\n",
       "      <td>-0.110474</td>\n",
       "      <td>0.066928</td>\n",
       "      <td>0.128539</td>\n",
       "      <td>-0.189115</td>\n",
       "      <td>0.133558</td>\n",
       "      <td>-0.021053</td>\n",
       "      <td>149.62</td>\n",
       "      <td>0</td>\n",
       "    </tr>\n",
       "    <tr>\n",
       "      <th>1</th>\n",
       "      <td>0.0</td>\n",
       "      <td>1.191857</td>\n",
       "      <td>0.266151</td>\n",
       "      <td>0.166480</td>\n",
       "      <td>0.448154</td>\n",
       "      <td>0.060018</td>\n",
       "      <td>-0.082361</td>\n",
       "      <td>-0.078803</td>\n",
       "      <td>0.085102</td>\n",
       "      <td>-0.255425</td>\n",
       "      <td>...</td>\n",
       "      <td>-0.225775</td>\n",
       "      <td>-0.638672</td>\n",
       "      <td>0.101288</td>\n",
       "      <td>-0.339846</td>\n",
       "      <td>0.167170</td>\n",
       "      <td>0.125895</td>\n",
       "      <td>-0.008983</td>\n",
       "      <td>0.014724</td>\n",
       "      <td>2.69</td>\n",
       "      <td>0</td>\n",
       "    </tr>\n",
       "    <tr>\n",
       "      <th>2</th>\n",
       "      <td>1.0</td>\n",
       "      <td>-1.358354</td>\n",
       "      <td>-1.340163</td>\n",
       "      <td>1.773209</td>\n",
       "      <td>0.379780</td>\n",
       "      <td>-0.503198</td>\n",
       "      <td>1.800499</td>\n",
       "      <td>0.791461</td>\n",
       "      <td>0.247676</td>\n",
       "      <td>-1.514654</td>\n",
       "      <td>...</td>\n",
       "      <td>0.247998</td>\n",
       "      <td>0.771679</td>\n",
       "      <td>0.909412</td>\n",
       "      <td>-0.689281</td>\n",
       "      <td>-0.327642</td>\n",
       "      <td>-0.139097</td>\n",
       "      <td>-0.055353</td>\n",
       "      <td>-0.059752</td>\n",
       "      <td>378.66</td>\n",
       "      <td>0</td>\n",
       "    </tr>\n",
       "    <tr>\n",
       "      <th>3</th>\n",
       "      <td>1.0</td>\n",
       "      <td>-0.966272</td>\n",
       "      <td>-0.185226</td>\n",
       "      <td>1.792993</td>\n",
       "      <td>-0.863291</td>\n",
       "      <td>-0.010309</td>\n",
       "      <td>1.247203</td>\n",
       "      <td>0.237609</td>\n",
       "      <td>0.377436</td>\n",
       "      <td>-1.387024</td>\n",
       "      <td>...</td>\n",
       "      <td>-0.108300</td>\n",
       "      <td>0.005274</td>\n",
       "      <td>-0.190321</td>\n",
       "      <td>-1.175575</td>\n",
       "      <td>0.647376</td>\n",
       "      <td>-0.221929</td>\n",
       "      <td>0.062723</td>\n",
       "      <td>0.061458</td>\n",
       "      <td>123.50</td>\n",
       "      <td>0</td>\n",
       "    </tr>\n",
       "    <tr>\n",
       "      <th>4</th>\n",
       "      <td>2.0</td>\n",
       "      <td>-1.158233</td>\n",
       "      <td>0.877737</td>\n",
       "      <td>1.548718</td>\n",
       "      <td>0.403034</td>\n",
       "      <td>-0.407193</td>\n",
       "      <td>0.095921</td>\n",
       "      <td>0.592941</td>\n",
       "      <td>-0.270533</td>\n",
       "      <td>0.817739</td>\n",
       "      <td>...</td>\n",
       "      <td>-0.009431</td>\n",
       "      <td>0.798278</td>\n",
       "      <td>-0.137458</td>\n",
       "      <td>0.141267</td>\n",
       "      <td>-0.206010</td>\n",
       "      <td>0.502292</td>\n",
       "      <td>0.219422</td>\n",
       "      <td>0.215153</td>\n",
       "      <td>69.99</td>\n",
       "      <td>0</td>\n",
       "    </tr>\n",
       "  </tbody>\n",
       "</table>\n",
       "<p>5 rows × 31 columns</p>\n",
       "</div>"
      ],
      "text/plain": [
       "   Time        V1        V2        V3        V4        V5        V6        V7  \\\n",
       "0   0.0 -1.359807 -0.072781  2.536347  1.378155 -0.338321  0.462388  0.239599   \n",
       "1   0.0  1.191857  0.266151  0.166480  0.448154  0.060018 -0.082361 -0.078803   \n",
       "2   1.0 -1.358354 -1.340163  1.773209  0.379780 -0.503198  1.800499  0.791461   \n",
       "3   1.0 -0.966272 -0.185226  1.792993 -0.863291 -0.010309  1.247203  0.237609   \n",
       "4   2.0 -1.158233  0.877737  1.548718  0.403034 -0.407193  0.095921  0.592941   \n",
       "\n",
       "         V8        V9  ...       V21       V22       V23       V24       V25  \\\n",
       "0  0.098698  0.363787  ... -0.018307  0.277838 -0.110474  0.066928  0.128539   \n",
       "1  0.085102 -0.255425  ... -0.225775 -0.638672  0.101288 -0.339846  0.167170   \n",
       "2  0.247676 -1.514654  ...  0.247998  0.771679  0.909412 -0.689281 -0.327642   \n",
       "3  0.377436 -1.387024  ... -0.108300  0.005274 -0.190321 -1.175575  0.647376   \n",
       "4 -0.270533  0.817739  ... -0.009431  0.798278 -0.137458  0.141267 -0.206010   \n",
       "\n",
       "        V26       V27       V28  Amount  Class  \n",
       "0 -0.189115  0.133558 -0.021053  149.62      0  \n",
       "1  0.125895 -0.008983  0.014724    2.69      0  \n",
       "2 -0.139097 -0.055353 -0.059752  378.66      0  \n",
       "3 -0.221929  0.062723  0.061458  123.50      0  \n",
       "4  0.502292  0.219422  0.215153   69.99      0  \n",
       "\n",
       "[5 rows x 31 columns]"
      ]
     },
     "execution_count": 2,
     "metadata": {},
     "output_type": "execute_result"
    }
   ],
   "source": [
    "train=pd.read_csv(\"creditcard.csv\")\n",
    "train.head()"
   ]
  },
  {
   "cell_type": "code",
   "execution_count": 3,
   "metadata": {},
   "outputs": [
    {
     "data": {
      "text/plain": [
       "(284807, 31)"
      ]
     },
     "execution_count": 3,
     "metadata": {},
     "output_type": "execute_result"
    }
   ],
   "source": [
    "train.shape"
   ]
  },
  {
   "cell_type": "code",
   "execution_count": 4,
   "metadata": {},
   "outputs": [
    {
     "data": {
      "text/plain": [
       "False"
      ]
     },
     "execution_count": 4,
     "metadata": {},
     "output_type": "execute_result"
    }
   ],
   "source": [
    "train.isnull().values.any()"
   ]
  },
  {
   "cell_type": "code",
   "execution_count": 5,
   "metadata": {},
   "outputs": [
    {
     "data": {
      "text/plain": [
       "Time      124592\n",
       "V1        275663\n",
       "V2        275663\n",
       "V3        275663\n",
       "V4        275663\n",
       "V5        275663\n",
       "V6        275663\n",
       "V7        275663\n",
       "V8        275663\n",
       "V9        275663\n",
       "V10       275663\n",
       "V11       275663\n",
       "V12       275663\n",
       "V13       275663\n",
       "V14       275663\n",
       "V15       275663\n",
       "V16       275663\n",
       "V17       275663\n",
       "V18       275663\n",
       "V19       275663\n",
       "V20       275663\n",
       "V21       275663\n",
       "V22       275663\n",
       "V23       275663\n",
       "V24       275663\n",
       "V25       275663\n",
       "V26       275663\n",
       "V27       275663\n",
       "V28       275663\n",
       "Amount     32767\n",
       "Class          2\n",
       "dtype: int64"
      ]
     },
     "execution_count": 5,
     "metadata": {},
     "output_type": "execute_result"
    }
   ],
   "source": [
    "train.nunique()"
   ]
  },
  {
   "cell_type": "code",
   "execution_count": null,
   "metadata": {},
   "outputs": [],
   "source": []
  },
  {
   "cell_type": "code",
   "execution_count": null,
   "metadata": {},
   "outputs": [],
   "source": []
  },
  {
   "cell_type": "code",
   "execution_count": 6,
   "metadata": {},
   "outputs": [
    {
     "data": {
      "text/plain": [
       "<AxesSubplot:xlabel='log_Amount', ylabel='Count'>"
      ]
     },
     "execution_count": 6,
     "metadata": {},
     "output_type": "execute_result"
    },
    {
     "data": {
      "image/png": "[encoded data removed]",
      "text/plain": [
       "<Figure size 432x288 with 1 Axes>"
      ]
     },
     "metadata": {
      "needs_background": "light"
     },
     "output_type": "display_data"
    }
   ],
   "source": [
    "train['log_Amount'] = train['Amount'].apply(lambda x: np.log(x + 0.01))\n",
    "sns.histplot(train['log_Amount'],bins=25,color=\"green\")"
   ]
  },
  {
   "cell_type": "code",
   "execution_count": 7,
   "metadata": {},
   "outputs": [
    {
     "data": {
      "image/png": "[encoded data removed]",
      "text/plain": [
       "<Figure size 720x504 with 2 Axes>"
      ]
     },
     "metadata": {
      "needs_background": "light"
     },
     "output_type": "display_data"
    }
   ],
   "source": [
    "fig, ax = plt.subplots(nrows=2, ncols=1, figsize=(10, 7))\n",
    "\n",
    "ax[0].hist(train['Time'][train['Class'] == 0], bins=40)\n",
    "ax[0].set_title('Regular Transactions', fontsize=14)\n",
    "ax[0].set_ylabel('Transactions')\n",
    "\n",
    "ax[1].hist(train['Time'][train['Class'] == 1], bins=40)\n",
    "ax[1].set_title('Fraudulent Transactions', fontsize=14)\n",
    "ax[1].set_ylabel('Transactions')\n",
    "ax[1].set_xlabel('Time (seconds)')\n",
    "\n",
    "plt.tight_layout(pad=4.0)"
   ]
  },
  {
   "cell_type": "code",
   "execution_count": 8,
   "metadata": {},
   "outputs": [],
   "source": [
    "# robust scaler\n",
    "scaler=RobustScaler()\n",
    "train['scaled_Amount']=scaler.fit_transform(train['log_Amount'].values.reshape(-1, 1))\n",
    "train['scaled_time']=scaler.fit_transform(train['Time'].values.reshape(-1, 1))"
   ]
  },
  {
   "cell_type": "code",
   "execution_count": 9,
   "metadata": {},
   "outputs": [
    {
     "data": {
      "text/plain": [
       "<AxesSubplot:xlabel='scaled_Amount', ylabel='Count'>"
      ]
     },
     "execution_count": 9,
     "metadata": {},
     "output_type": "execute_result"
    },
    {
     "data": {
      "image/png": "[encoded data removed]",
      "text/plain": [
       "<Figure size 432x288 with 1 Axes>"
      ]
     },
     "metadata": {
      "needs_background": "light"
     },
     "output_type": "display_data"
    }
   ],
   "source": [
    "sns.histplot(train['scaled_Amount'],bins=25,color=\"lightgreen\")"
   ]
  },
  {
   "cell_type": "code",
   "execution_count": 10,
   "metadata": {},
   "outputs": [
    {
     "data": {
      "text/plain": [
       "<AxesSubplot:xlabel='scaled_time', ylabel='Count'>"
      ]
     },
     "execution_count": 10,
     "metadata": {},
     "output_type": "execute_result"
    },
    {
     "data": {
      "image/png": "[encoded data removed]",
      "text/plain": [
       "<Figure size 432x288 with 1 Axes>"
      ]
     },
     "metadata": {
      "needs_background": "light"
     },
     "output_type": "display_data"
    }
   ],
   "source": [
    "sns.histplot(train['scaled_time'],bins=25,color=\"lightcoral\")"
   ]
  },
  {
   "cell_type": "code",
   "execution_count": 11,
   "metadata": {},
   "outputs": [
    {
     "name": "stdout",
     "output_type": "stream",
     "text": [
      "class 0: (284315, 34)\n",
      "class 1: (492, 34)\n"
     ]
    }
   ],
   "source": [
    "class_count_0, class_count_1 = train['Class'].value_counts()\n",
    "class_0 = train[train['Class'] == 0]\n",
    "class_1 = train[train['Class'] == 1]\n",
    "print('class 0:', class_0.shape)\n",
    "print('class 1:', class_1.shape)"
   ]
  },
  {
   "cell_type": "code",
   "execution_count": 12,
   "metadata": {},
   "outputs": [
    {
     "data": {
      "text/plain": [
       "((492, 34), (284315, 34))"
      ]
     },
     "execution_count": 12,
     "metadata": {},
     "output_type": "execute_result"
    }
   ],
   "source": [
    "fraud_df=train[train['Class']==1]\n",
    "non_fraud_df=train[train['Class']==0]\n",
    "fraud_df.shape, non_fraud_df.shape"
   ]
  },
  {
   "cell_type": "code",
   "execution_count": 13,
   "metadata": {},
   "outputs": [],
   "source": [
    "train.drop(['Time','Amount','log_Amount'], axis=1, inplace=True)"
   ]
  },
  {
   "cell_type": "code",
   "execution_count": 14,
   "metadata": {},
   "outputs": [
    {
     "data": {
      "text/html": [
       "<div>\n",
       "<style scoped>\n",
       "    .dataframe tbody tr th:only-of-type {\n",
       "        vertical-align: middle;\n",
       "    }\n",
       "\n",
       "    .dataframe tbody tr th {\n",
       "        vertical-align: top;\n",
       "    }\n",
       "\n",
       "    .dataframe thead th {\n",
       "        text-align: right;\n",
       "    }\n",
       "</style>\n",
       "<table border=\"1\" class=\"dataframe\">\n",
       "  <thead>\n",
       "    <tr style=\"text-align: right;\">\n",
       "      <th></th>\n",
       "      <th>scaled_Amount</th>\n",
       "      <th>scaled_time</th>\n",
       "      <th>V1</th>\n",
       "      <th>V2</th>\n",
       "      <th>V3</th>\n",
       "      <th>V4</th>\n",
       "      <th>V5</th>\n",
       "      <th>V6</th>\n",
       "      <th>V7</th>\n",
       "      <th>V8</th>\n",
       "      <th>...</th>\n",
       "      <th>V20</th>\n",
       "      <th>V21</th>\n",
       "      <th>V22</th>\n",
       "      <th>V23</th>\n",
       "      <th>V24</th>\n",
       "      <th>V25</th>\n",
       "      <th>V26</th>\n",
       "      <th>V27</th>\n",
       "      <th>V28</th>\n",
       "      <th>Class</th>\n",
       "    </tr>\n",
       "  </thead>\n",
       "  <tbody>\n",
       "    <tr>\n",
       "      <th>0</th>\n",
       "      <td>0.731127</td>\n",
       "      <td>-0.994983</td>\n",
       "      <td>-1.359807</td>\n",
       "      <td>-0.072781</td>\n",
       "      <td>2.536347</td>\n",
       "      <td>1.378155</td>\n",
       "      <td>-0.338321</td>\n",
       "      <td>0.462388</td>\n",
       "      <td>0.239599</td>\n",
       "      <td>0.098698</td>\n",
       "      <td>...</td>\n",
       "      <td>0.251412</td>\n",
       "      <td>-0.018307</td>\n",
       "      <td>0.277838</td>\n",
       "      <td>-0.110474</td>\n",
       "      <td>0.066928</td>\n",
       "      <td>0.128539</td>\n",
       "      <td>-0.189115</td>\n",
       "      <td>0.133558</td>\n",
       "      <td>-0.021053</td>\n",
       "      <td>0</td>\n",
       "    </tr>\n",
       "    <tr>\n",
       "      <th>1</th>\n",
       "      <td>-0.800391</td>\n",
       "      <td>-0.994983</td>\n",
       "      <td>1.191857</td>\n",
       "      <td>0.266151</td>\n",
       "      <td>0.166480</td>\n",
       "      <td>0.448154</td>\n",
       "      <td>0.060018</td>\n",
       "      <td>-0.082361</td>\n",
       "      <td>-0.078803</td>\n",
       "      <td>0.085102</td>\n",
       "      <td>...</td>\n",
       "      <td>-0.069083</td>\n",
       "      <td>-0.225775</td>\n",
       "      <td>-0.638672</td>\n",
       "      <td>0.101288</td>\n",
       "      <td>-0.339846</td>\n",
       "      <td>0.167170</td>\n",
       "      <td>0.125895</td>\n",
       "      <td>-0.008983</td>\n",
       "      <td>0.014724</td>\n",
       "      <td>0</td>\n",
       "    </tr>\n",
       "    <tr>\n",
       "      <th>2</th>\n",
       "      <td>1.085310</td>\n",
       "      <td>-0.994972</td>\n",
       "      <td>-1.358354</td>\n",
       "      <td>-1.340163</td>\n",
       "      <td>1.773209</td>\n",
       "      <td>0.379780</td>\n",
       "      <td>-0.503198</td>\n",
       "      <td>1.800499</td>\n",
       "      <td>0.791461</td>\n",
       "      <td>0.247676</td>\n",
       "      <td>...</td>\n",
       "      <td>0.524980</td>\n",
       "      <td>0.247998</td>\n",
       "      <td>0.771679</td>\n",
       "      <td>0.909412</td>\n",
       "      <td>-0.689281</td>\n",
       "      <td>-0.327642</td>\n",
       "      <td>-0.139097</td>\n",
       "      <td>-0.055353</td>\n",
       "      <td>-0.059752</td>\n",
       "      <td>0</td>\n",
       "    </tr>\n",
       "    <tr>\n",
       "      <th>3</th>\n",
       "      <td>0.657947</td>\n",
       "      <td>-0.994972</td>\n",
       "      <td>-0.966272</td>\n",
       "      <td>-0.185226</td>\n",
       "      <td>1.792993</td>\n",
       "      <td>-0.863291</td>\n",
       "      <td>-0.010309</td>\n",
       "      <td>1.247203</td>\n",
       "      <td>0.237609</td>\n",
       "      <td>0.377436</td>\n",
       "      <td>...</td>\n",
       "      <td>-0.208038</td>\n",
       "      <td>-0.108300</td>\n",
       "      <td>0.005274</td>\n",
       "      <td>-0.190321</td>\n",
       "      <td>-1.175575</td>\n",
       "      <td>0.647376</td>\n",
       "      <td>-0.221929</td>\n",
       "      <td>0.062723</td>\n",
       "      <td>0.061458</td>\n",
       "      <td>0</td>\n",
       "    </tr>\n",
       "    <tr>\n",
       "      <th>4</th>\n",
       "      <td>0.441346</td>\n",
       "      <td>-0.994960</td>\n",
       "      <td>-1.158233</td>\n",
       "      <td>0.877737</td>\n",
       "      <td>1.548718</td>\n",
       "      <td>0.403034</td>\n",
       "      <td>-0.407193</td>\n",
       "      <td>0.095921</td>\n",
       "      <td>0.592941</td>\n",
       "      <td>-0.270533</td>\n",
       "      <td>...</td>\n",
       "      <td>0.408542</td>\n",
       "      <td>-0.009431</td>\n",
       "      <td>0.798278</td>\n",
       "      <td>-0.137458</td>\n",
       "      <td>0.141267</td>\n",
       "      <td>-0.206010</td>\n",
       "      <td>0.502292</td>\n",
       "      <td>0.219422</td>\n",
       "      <td>0.215153</td>\n",
       "      <td>0</td>\n",
       "    </tr>\n",
       "  </tbody>\n",
       "</table>\n",
       "<p>5 rows × 31 columns</p>\n",
       "</div>"
      ],
      "text/plain": [
       "   scaled_Amount  scaled_time        V1        V2        V3        V4  \\\n",
       "0       0.731127    -0.994983 -1.359807 -0.072781  2.536347  1.378155   \n",
       "1      -0.800391    -0.994983  1.191857  0.266151  0.166480  0.448154   \n",
       "2       1.085310    -0.994972 -1.358354 -1.340163  1.773209  0.379780   \n",
       "3       0.657947    -0.994972 -0.966272 -0.185226  1.792993 -0.863291   \n",
       "4       0.441346    -0.994960 -1.158233  0.877737  1.548718  0.403034   \n",
       "\n",
       "         V5        V6        V7        V8  ...       V20       V21       V22  \\\n",
       "0 -0.338321  0.462388  0.239599  0.098698  ...  0.251412 -0.018307  0.277838   \n",
       "1  0.060018 -0.082361 -0.078803  0.085102  ... -0.069083 -0.225775 -0.638672   \n",
       "2 -0.503198  1.800499  0.791461  0.247676  ...  0.524980  0.247998  0.771679   \n",
       "3 -0.010309  1.247203  0.237609  0.377436  ... -0.208038 -0.108300  0.005274   \n",
       "4 -0.407193  0.095921  0.592941 -0.270533  ...  0.408542 -0.009431  0.798278   \n",
       "\n",
       "        V23       V24       V25       V26       V27       V28  Class  \n",
       "0 -0.110474  0.066928  0.128539 -0.189115  0.133558 -0.021053      0  \n",
       "1  0.101288 -0.339846  0.167170  0.125895 -0.008983  0.014724      0  \n",
       "2  0.909412 -0.689281 -0.327642 -0.139097 -0.055353 -0.059752      0  \n",
       "3 -0.190321 -1.175575  0.647376 -0.221929  0.062723  0.061458      0  \n",
       "4 -0.137458  0.141267 -0.206010  0.502292  0.219422  0.215153      0  \n",
       "\n",
       "[5 rows x 31 columns]"
      ]
     },
     "execution_count": 14,
     "metadata": {},
     "output_type": "execute_result"
    }
   ],
   "source": [
    "scaled_amount = train['scaled_Amount']\n",
    "scaled_time = train['scaled_time']\n",
    "\n",
    "train.drop(['scaled_Amount', 'scaled_time'], axis=1, inplace=True)\n",
    "train.insert(0, 'scaled_Amount', scaled_amount)\n",
    "train.insert(1, 'scaled_time', scaled_time)\n",
    "\n",
    "# Amount and Time are Scaled\n",
    "train.head()"
   ]
  },
  {
   "cell_type": "markdown",
   "metadata": {},
   "source": [
    "## I.I Resampling Techniques for Imbalanced Classes"
   ]
  },
  {
   "cell_type": "code",
   "execution_count": null,
   "metadata": {},
   "outputs": [],
   "source": []
  },
  {
   "cell_type": "code",
   "execution_count": 15,
   "metadata": {},
   "outputs": [
    {
     "data": {
      "image/png": "[encoded data removed]",
      "text/plain": [
       "<Figure size 720x432 with 1 Axes>"
      ]
     },
     "metadata": {
      "needs_background": "light"
     },
     "output_type": "display_data"
    }
   ],
   "source": [
    "plt.figure(figsize=(10,6))\n",
    "g = sns.countplot(train['Class'])\n",
    "g.set_xticklabels(['Not Fraud','Fraud'])\n",
    "plt.show()"
   ]
  },
  {
   "cell_type": "code",
   "execution_count": 16,
   "metadata": {},
   "outputs": [],
   "source": [
    "y=train['Class']\n",
    "train.drop(['Class'],axis=1,inplace=True)"
   ]
  },
  {
   "cell_type": "code",
   "execution_count": 17,
   "metadata": {},
   "outputs": [],
   "source": [
    "# train test split of the dataset\n",
    "x_train,x_test,y_train,y_test=train_test_split(train,y,test_size=0.2,random_state=42)"
   ]
  },
  {
   "cell_type": "markdown",
   "metadata": {},
   "source": [
    "Oversampling can be defined as adding more copies of the minority class. Oversampling can be a good choice when you don’t have a ton of data to work with."
   ]
  },
  {
   "cell_type": "code",
   "execution_count": 18,
   "metadata": {},
   "outputs": [
    {
     "name": "stdout",
     "output_type": "stream",
     "text": [
      "Original dataset shape Counter({0: 284315, 1: 492})\n",
      "Resample dataset shape Counter({0: 227451, 1: 227451})\n"
     ]
    }
   ],
   "source": [
    "# random over sampler\n",
    "from imblearn.over_sampling import RandomOverSampler\n",
    "\n",
    "ros = RandomOverSampler(random_state=42)\n",
    "\n",
    "# fit predictor and target variable\n",
    "x_ros, y_ros = ros.fit_resample(x_train, y_train)\n",
    "\n",
    "print('Original dataset shape', Counter(y))\n",
    "print('Resample dataset shape', Counter(y_ros))"
   ]
  },
  {
   "cell_type": "code",
   "execution_count": 19,
   "metadata": {},
   "outputs": [
    {
     "data": {
      "text/plain": [
       "<AxesSubplot:xlabel='Class', ylabel='count'>"
      ]
     },
     "execution_count": 19,
     "metadata": {},
     "output_type": "execute_result"
    },
    {
     "data": {
      "image/png": "[encoded data removed]",
      "text/plain": [
       "<Figure size 432x288 with 1 Axes>"
      ]
     },
     "metadata": {
      "needs_background": "light"
     },
     "output_type": "display_data"
    }
   ],
   "source": [
    "sns.countplot(y_ros)"
   ]
  },
  {
   "cell_type": "markdown",
   "metadata": {},
   "source": [
    "Undersampling can be defined as removing some observations of the majority class. Undersampling can be a good choice when you have a ton of data -think millions of rows. But a drawback is that we are removing information that may be valuable. This could lead to underfitting and poor generalization to the test set."
   ]
  },
  {
   "cell_type": "code",
   "execution_count": 20,
   "metadata": {},
   "outputs": [
    {
     "name": "stdout",
     "output_type": "stream",
     "text": [
      "Original dataset shape Counter({0: 284315, 1: 492})\n",
      "Resample dataset shape Counter({0: 394, 1: 394})\n"
     ]
    }
   ],
   "source": [
    "# Random under sampler\n",
    "from imblearn.under_sampling import RandomUnderSampler\n",
    "\n",
    "ros = RandomUnderSampler(random_state=42)\n",
    "\n",
    "# fit predictor and target variable\n",
    "x_rus, y_rus = ros.fit_resample(x_train, y_train)\n",
    "\n",
    "print('Original dataset shape', Counter(y))\n",
    "print('Resample dataset shape', Counter(y_rus))"
   ]
  },
  {
   "cell_type": "code",
   "execution_count": 21,
   "metadata": {},
   "outputs": [
    {
     "data": {
      "text/plain": [
       "<AxesSubplot:xlabel='Class', ylabel='count'>"
      ]
     },
     "execution_count": 21,
     "metadata": {},
     "output_type": "execute_result"
    },
    {
     "data": {
      "image/png": "[encoded data removed]",
      "text/plain": [
       "<Figure size 432x288 with 1 Axes>"
      ]
     },
     "metadata": {
      "needs_background": "light"
     },
     "output_type": "display_data"
    }
   ],
   "source": [
    "sns.countplot(y_rus)"
   ]
  },
  {
   "cell_type": "markdown",
   "metadata": {},
   "source": [
    "**SMOTE (Synthetic Minority Over-sampling Technique)**\n",
    "\n",
    "This technique is followed to avoid overfitting which occurs when exact replicas of minority instances are added to the main dataset. A subset of data is taken from the minority class as an example and then new synthetic similar instances are created. These are not duplicate or replicate of existing minority class data.These synthetic instances are then added to the original dataset.The new dataset is used as a sample to train the classification models."
   ]
  },
  {
   "cell_type": "code",
   "execution_count": 22,
   "metadata": {},
   "outputs": [],
   "source": [
    "from imblearn.over_sampling import SMOTE\n",
    "from sklearn.cluster import KMeans\n",
    "#from clover.over_sampling import ClusterOverSampler"
   ]
  },
  {
   "cell_type": "code",
   "execution_count": 23,
   "metadata": {},
   "outputs": [
    {
     "name": "stdout",
     "output_type": "stream",
     "text": [
      "original dataset shape: Counter({0: 284315, 1: 492})\n",
      "Resample dataset shape Counter({0: 227451, 1: 227451})\n"
     ]
    }
   ],
   "source": [
    "# smote\n",
    "oversample = SMOTE()\n",
    "x_smote, y_smote = oversample.fit_resample(x_train, y_train)\n",
    "print('original dataset shape:', Counter(y))\n",
    "print('Resample dataset shape', Counter(y_smote))"
   ]
  },
  {
   "cell_type": "code",
   "execution_count": 24,
   "metadata": {},
   "outputs": [
    {
     "data": {
      "text/plain": [
       "<AxesSubplot:xlabel='Class', ylabel='count'>"
      ]
     },
     "execution_count": 24,
     "metadata": {},
     "output_type": "execute_result"
    },
    {
     "data": {
      "image/png": "[encoded data removed]",
      "text/plain": [
       "<Figure size 432x288 with 1 Axes>"
      ]
     },
     "metadata": {
      "needs_background": "light"
     },
     "output_type": "display_data"
    }
   ],
   "source": [
    "sns.countplot(y_smote)"
   ]
  },
  {
   "cell_type": "markdown",
   "metadata": {},
   "source": [
    "## Part II: Classical Model building "
   ]
  },
  {
   "cell_type": "code",
   "execution_count": null,
   "metadata": {},
   "outputs": [],
   "source": []
  },
  {
   "cell_type": "code",
   "execution_count": null,
   "metadata": {},
   "outputs": [],
   "source": []
  },
  {
   "cell_type": "markdown",
   "metadata": {},
   "source": [
    "### I.III Decision Tree Classifier"
   ]
  },
  {
   "cell_type": "markdown",
   "metadata": {},
   "source": [
    "A Decision Tree is a simple representation for classifying examples. It is a Supervised Machine Learning where the data is continuously split according to a certain parameter."
   ]
  },
  {
   "cell_type": "code",
   "execution_count": 25,
   "metadata": {},
   "outputs": [
    {
     "name": "stdout",
     "output_type": "stream",
     "text": [
      "Accuracy Score of Decision Tree : 0.9977704434535304\n",
      "Classification Report : \n",
      "              precision    recall  f1-score   support\n",
      "\n",
      "           0       1.00      1.00      1.00     56864\n",
      "           1       0.42      0.78      0.54        98\n",
      "\n",
      "    accuracy                           1.00     56962\n",
      "   macro avg       0.71      0.89      0.77     56962\n",
      "weighted avg       1.00      1.00      1.00     56962\n",
      "\n"
     ]
    }
   ],
   "source": [
    "from sklearn.metrics import accuracy_score, classification_report,roc_auc_score\n",
    "# decision Tree Classifier\n",
    "model_4=DecisionTreeClassifier()\n",
    "model_4.fit(x_smote,y_smote)\n",
    "pred_4=model_4.predict(x_test)\n",
    "acc_4 = accuracy_score(y_test, pred_4)\n",
    "#con_mat = confusion_matrix(y_test, pred_4)\n",
    "clf_report = classification_report(y_test, pred_4)\n",
    "print(f\"Accuracy Score of Decision Tree : {acc_4}\")\n",
    "print(f\"Classification Report : \\n{clf_report}\")"
   ]
  },
  {
   "cell_type": "code",
   "execution_count": 26,
   "metadata": {},
   "outputs": [
    {
     "name": "stdout",
     "output_type": "stream",
     "text": [
      "Accuracy Score of Logistic Regression : 0.9746673220743653\n",
      "Classification Report : \n",
      "              precision    recall  f1-score   support\n",
      "\n",
      "           0       1.00      0.97      0.99     56864\n",
      "           1       0.06      0.92      0.11        98\n",
      "\n",
      "    accuracy                           0.97     56962\n",
      "   macro avg       0.53      0.95      0.55     56962\n",
      "weighted avg       1.00      0.97      0.99     56962\n",
      "\n"
     ]
    }
   ],
   "source": [
    "# with smote\n",
    "from sklearn.metrics import accuracy_score, confusion_matrix, classification_report,roc_auc_score\n",
    "model_1=LogisticRegression()\n",
    "model_1.fit(x_smote,y_smote)\n",
    "pred_1=model_1.predict(x_test)\n",
    "acc_1 = accuracy_score(y_test, pred_1)\n",
    "#con_mat = confusion_matrix(y_test, pred_1)\n",
    "clf_report = classification_report(y_test, pred_1)\n",
    "print(f\"Accuracy Score of Logistic Regression : {acc_1}\")\n",
    "#print(f\"Confusion Matrix : \\n{con_mat}\")\n",
    "print(f\"Classification Report : \\n{clf_report}\")"
   ]
  },
  {
   "cell_type": "code",
   "execution_count": 27,
   "metadata": {},
   "outputs": [
    {
     "name": "stdout",
     "output_type": "stream",
     "text": [
      "Accuracy of Support Vector Classifier:  98.37\n"
     ]
    }
   ],
   "source": [
    "#Import Library for Support Vector Machine\n",
    "from sklearn import svm\n",
    "from sklearn.metrics import accuracy_score\n",
    "#Initialize the Support Vector Classifier\n",
    "model = svm.SVC()\n",
    "\n",
    "#Train the model using Training Dataset\n",
    "model.fit(x_smote,y_smote)\n",
    "\n",
    "# Prediction using test data\n",
    "y_pred = model.predict(x_test)\n",
    "\n",
    "# Calculate Model accuracy by comparing y_test and y_pred\n",
    "acc_svc = round( accuracy_score(y_test, y_pred) * 100, 2 )\n",
    "print( 'Accuracy of Support Vector Classifier: ', acc_svc )"
   ]
  },
  {
   "cell_type": "markdown",
   "metadata": {},
   "source": [
    "# Part III: Variational Quantum classifier "
   ]
  },
  {
   "cell_type": "markdown",
   "metadata": {},
   "source": [
    "A quantum neural network can broadly be define as a quantum circuit with trainable parameters. This means that a quantum neural network is a variational quantum circuit, a parameterized quantum circuit that can be optimized by training the parameters of the quantum circuit, which are qubit rotations, and the measurement of this circuit will approximate the quantity of interest.\n",
    "\n",
    "Machine learning techniques are built around:\n",
    "\n",
    "1. An adaptable system that allows approximation.\n",
    "2. Calculation of a cost function in the output layer.\n",
    "3. A way to update the network to minimize the cost function and improve on the model’s ability to perform the machine learning task.\n",
    "\n",
    "To pursue the task of classification using quantum machine learning, we can use a hybrid neural network based on a quantum variational classifier."
   ]
  },
  {
   "cell_type": "markdown",
   "metadata": {},
   "source": [
    "Given a dataset about transactions made by credit cards, can we predict if they are likely be a fraduelent transaction. This is a binary classification problem, with a real input vector x and a binary output y in [0, 1], 0 is a fraudelent transacciont, 1 is not. We want to build a quantum circuit whose output is a quantum state"
   ]
  },
  {
   "cell_type": "markdown",
   "metadata": {},
   "source": [
    "The dimension of the data corresponds to the number of qubits required in order to encode the data for the quantum feature maps we will later initialize. We cannot work with large number of qubits, therefore I choose to work with data of dimension 30."
   ]
  },
  {
   "cell_type": "code",
   "execution_count": 28,
   "metadata": {},
   "outputs": [],
   "source": [
    "x_smote2= x_smote[:30]\n",
    "y_smote2 = y_smote[:30]"
   ]
  },
  {
   "cell_type": "code",
   "execution_count": 29,
   "metadata": {},
   "outputs": [],
   "source": [
    "from qiskit import QuantumCircuit\n",
    "from qiskit.circuit.library import ZZFeatureMap, RealAmplitudes\n",
    "from qiskit.quantum_info import Statevector\n",
    "\n",
    "import matplotlib.pyplot as plt\n",
    "\n",
    "from sklearn.preprocessing import normalize\n",
    "from sklearn.model_selection import train_test_split\n",
    "from sklearn.utils import shuffle\n",
    "\n",
    "%matplotlib inline"
   ]
  },
  {
   "cell_type": "code",
   "execution_count": 30,
   "metadata": {},
   "outputs": [],
   "source": [
    "n = 5\n",
    "LR = 1e-3\n",
    "class_labels = ['Not_Fraud', 'Fraud']"
   ]
  },
  {
   "cell_type": "code",
   "execution_count": 31,
   "metadata": {},
   "outputs": [],
   "source": [
    "X, Y = x_smote2[['scaled_Amount', 'V1', 'V2', 'V3', 'V4']].values, y_smote2.values\n",
    "# normalize the data\n",
    "X = normalize(X)\n",
    "X_train, X_test, Y_train, Y_test = train_test_split(X, Y, test_size=0.3, random_state=42)"
   ]
  },
  {
   "cell_type": "code",
   "execution_count": 32,
   "metadata": {},
   "outputs": [],
   "source": [
    "sv = Statevector.from_label('0' * n)"
   ]
  },
  {
   "cell_type": "markdown",
   "metadata": {},
   "source": [
    "## Quantum Feature Map"
   ]
  },
  {
   "cell_type": "markdown",
   "metadata": {},
   "source": [
    "Let $\\chi$ be a set of input data. A feature map $\\phi: \\chi \\rightarrow F$ where $F$ is the featrure space. The outputs of the map on the individual data points, $\\phi(x)$ for all $x \\in \\chi$, are called feature vectors. \n",
    "\n",
    "In general $F$ is just a vector space - a quantum feature map $\\phi: \\chi \\rightarrow F$ is a feature map where the vector space $F$ is a Hilbert space and the feature vectors are quantum states. The map transfroms $x \\rightarrow |\\phi(x)>$ by way of a unitary transformation $U_{\\phi}(x)$, which is typically a variational circuit whose parameters depend on the input data."
   ]
  },
  {
   "cell_type": "code",
   "execution_count": 33,
   "metadata": {},
   "outputs": [
    {
     "data": {
      "image/png": "[encoded data removed]",
      "text/plain": [
       "<Figure size 1683.19x686.28 with 1 Axes>"
      ]
     },
     "execution_count": 33,
     "metadata": {},
     "output_type": "execute_result"
    }
   ],
   "source": [
    "feature_map = ZZFeatureMap(n, reps=1) # Second-order Pauli-Z evolution circuit.\n",
    "feature_map.draw(output='mpl')"
   ]
  },
  {
   "cell_type": "code",
   "execution_count": 34,
   "metadata": {},
   "outputs": [
    {
     "data": {
      "image/png": "[encoded data removed]",
      "text/plain": [
       "<Figure size 900.592x325.08 with 1 Axes>"
      ]
     },
     "execution_count": 34,
     "metadata": {},
     "output_type": "execute_result"
    }
   ],
   "source": [
    "var_form = RealAmplitudes(n, reps=1) # The RealAmplitudes circuit is a heuristic trial wave function used as Ansatz in chemistry applications or classification circuits in machine learning.\n",
    "var_form.draw(output='mpl')"
   ]
  },
  {
   "cell_type": "code",
   "execution_count": null,
   "metadata": {},
   "outputs": [],
   "source": []
  },
  {
   "cell_type": "code",
   "execution_count": 35,
   "metadata": {},
   "outputs": [
    {
     "data": {
      "image/png": "[encoded data removed]",
      "text/plain": [
       "<Figure size 1683.19x686.28 with 1 Axes>"
      ]
     },
     "execution_count": 35,
     "metadata": {},
     "output_type": "execute_result"
    }
   ],
   "source": [
    "circuit = feature_map.combine(var_form)\n",
    "circuit.draw(output='mpl')"
   ]
  },
  {
   "cell_type": "markdown",
   "metadata": {},
   "source": [
    "## **Test of circuits for one set of parameters**"
   ]
  },
  {
   "cell_type": "markdown",
   "metadata": {},
   "source": [
    "Parameters for testing one iteration of the algorithm "
   ]
  },
  {
   "cell_type": "code",
   "execution_count": 36,
   "metadata": {},
   "outputs": [],
   "source": [
    "parameters_test = [0.16905875, 4.6350628 , 4.17091288, 3.23471128, 2.10850903,1.01827162, 0.35361994, 4.84247116, 4.61215744, 4.3947329 ]"
   ]
  },
  {
   "cell_type": "code",
   "execution_count": 37,
   "metadata": {},
   "outputs": [
    {
     "data": {
      "text/plain": [
       "[Parameter(x[0]),\n",
       " Parameter(x[1]),\n",
       " Parameter(x[2]),\n",
       " Parameter(x[3]),\n",
       " Parameter(x[4])]"
      ]
     },
     "execution_count": 37,
     "metadata": {},
     "output_type": "execute_result"
    }
   ],
   "source": [
    "feature_map.ordered_parameters"
   ]
  },
  {
   "cell_type": "code",
   "execution_count": 38,
   "metadata": {},
   "outputs": [
    {
     "name": "stdout",
     "output_type": "stream",
     "text": [
      "0\n",
      "x[0]\n",
      "1\n",
      "x[1]\n",
      "2\n",
      "x[2]\n",
      "3\n",
      "x[3]\n",
      "4\n",
      "x[4]\n"
     ]
    }
   ],
   "source": [
    "for i, p in enumerate(feature_map.ordered_parameters):\n",
    "    print(i)\n",
    "    print(p)"
   ]
  },
  {
   "cell_type": "code",
   "execution_count": 39,
   "metadata": {},
   "outputs": [],
   "source": [
    "# Assign the the data to the featuremap\n",
    "parameters = {}\n",
    "for i, p in enumerate(feature_map.ordered_parameters):\n",
    "    parameters[p] = X_train[i]"
   ]
  },
  {
   "cell_type": "code",
   "execution_count": 40,
   "metadata": {},
   "outputs": [
    {
     "data": {
      "text/plain": [
       "{Parameter(x[0]): array([-0.14570187,  0.94655642, -0.1843605 , -0.15251724,  0.15984871]),\n",
       " Parameter(x[1]): array([ 0.01345062, -0.90032795,  0.42420711, -0.09608996, -0.00661145]),\n",
       " Parameter(x[2]): array([ 0.01847325,  0.81383143, -0.34741963, -0.36416902, -0.28985803]),\n",
       " Parameter(x[3]): array([ 0.14332227, -0.49531742,  0.66148937,  0.39919553,  0.37039723]),\n",
       " Parameter(x[4]): array([ 0.45596258,  0.12847039, -0.85550746, -0.2080774 , -0.0201065 ])}"
      ]
     },
     "execution_count": 40,
     "metadata": {},
     "output_type": "execute_result"
    }
   ],
   "source": [
    "parameters"
   ]
  },
  {
   "cell_type": "code",
   "execution_count": 41,
   "metadata": {},
   "outputs": [
    {
     "data": {
      "text/plain": [
       "[Parameter(θ[0]),\n",
       " Parameter(θ[1]),\n",
       " Parameter(θ[2]),\n",
       " Parameter(θ[3]),\n",
       " Parameter(θ[4]),\n",
       " Parameter(θ[5]),\n",
       " Parameter(θ[6]),\n",
       " Parameter(θ[7]),\n",
       " Parameter(θ[8]),\n",
       " Parameter(θ[9])]"
      ]
     },
     "execution_count": 41,
     "metadata": {},
     "output_type": "execute_result"
    }
   ],
   "source": [
    "var_form.ordered_parameters"
   ]
  },
  {
   "cell_type": "code",
   "execution_count": 42,
   "metadata": {},
   "outputs": [
    {
     "name": "stdout",
     "output_type": "stream",
     "text": [
      "0\n",
      "θ[0]\n",
      "1\n",
      "θ[1]\n",
      "2\n",
      "θ[2]\n",
      "3\n",
      "θ[3]\n",
      "4\n",
      "θ[4]\n",
      "5\n",
      "θ[5]\n",
      "6\n",
      "θ[6]\n",
      "7\n",
      "θ[7]\n",
      "8\n",
      "θ[8]\n",
      "9\n",
      "θ[9]\n"
     ]
    }
   ],
   "source": [
    "for i, p in enumerate(var_form.ordered_parameters):\n",
    "        print(i)\n",
    "        print(p)"
   ]
  },
  {
   "cell_type": "code",
   "execution_count": 43,
   "metadata": {},
   "outputs": [],
   "source": [
    "#Assign the parameters_test to the variational circuit\n",
    "for i, p in enumerate(var_form.ordered_parameters):\n",
    "    parameters[p] = parameters_test[i]"
   ]
  },
  {
   "cell_type": "code",
   "execution_count": 44,
   "metadata": {},
   "outputs": [
    {
     "data": {
      "text/plain": [
       "{Parameter(x[0]): array([-0.14570187,  0.94655642, -0.1843605 , -0.15251724,  0.15984871]),\n",
       " Parameter(x[1]): array([ 0.01345062, -0.90032795,  0.42420711, -0.09608996, -0.00661145]),\n",
       " Parameter(x[2]): array([ 0.01847325,  0.81383143, -0.34741963, -0.36416902, -0.28985803]),\n",
       " Parameter(x[3]): array([ 0.14332227, -0.49531742,  0.66148937,  0.39919553,  0.37039723]),\n",
       " Parameter(x[4]): array([ 0.45596258,  0.12847039, -0.85550746, -0.2080774 , -0.0201065 ]),\n",
       " Parameter(θ[0]): 0.16905875,\n",
       " Parameter(θ[1]): 4.6350628,\n",
       " Parameter(θ[2]): 4.17091288,\n",
       " Parameter(θ[3]): 3.23471128,\n",
       " Parameter(θ[4]): 2.10850903,\n",
       " Parameter(θ[5]): 1.01827162,\n",
       " Parameter(θ[6]): 0.35361994,\n",
       " Parameter(θ[7]): 4.84247116,\n",
       " Parameter(θ[8]): 4.61215744,\n",
       " Parameter(θ[9]): 4.3947329}"
      ]
     },
     "execution_count": 44,
     "metadata": {},
     "output_type": "execute_result"
    }
   ],
   "source": [
    "parameters"
   ]
  },
  {
   "cell_type": "code",
   "execution_count": 45,
   "metadata": {},
   "outputs": [
    {
     "name": "stdout",
     "output_type": "stream",
     "text": [
      "[-0.14570187  0.94655642 -0.1843605  -0.15251724  0.15984871]\n",
      "[ 0.01345062 -0.90032795  0.42420711 -0.09608996 -0.00661145]\n",
      "[ 0.01847325  0.81383143 -0.34741963 -0.36416902 -0.28985803]\n",
      "[ 0.14332227 -0.49531742  0.66148937  0.39919553  0.37039723]\n",
      "[ 0.45596258  0.12847039 -0.85550746 -0.2080774  -0.0201065 ]\n",
      "[-0.02397811 -0.62624557 -0.77467235  0.08313113  0.01461202]\n",
      "[-0.55186968  0.57578333 -0.2205622   0.36442649 -0.42715226]\n",
      "[ 0.10507824 -0.15024051 -0.23490778  0.58276641 -0.75603439]\n",
      "[-0.18578401  0.05821822  0.65884041 -0.4507143  -0.56998322]\n",
      "[-0.14548372  0.45382547 -0.00322573  0.49955608  0.72340186]\n",
      "[ 0.18097142 -0.15158818  0.28745105  0.49599947  0.78461888]\n",
      "[ 0.216538   -0.28107337 -0.0376128   0.93244503  0.05692626]\n",
      "[-0.56785977  0.78942968  0.06483796  0.1032564   0.19867112]\n",
      "[-0.07554877 -0.25904577  0.4392809   0.77221055  0.37136346]\n",
      "[-0.17839995  0.83719078 -0.36526917  0.17338835 -0.32218002]\n",
      "[-0.20147276  0.53792188 -0.23817302 -0.39413043 -0.67674486]\n",
      "[ 0.37945788  0.16984741  0.03826028  0.03677834 -0.90793561]\n",
      "[-0.04897562 -0.25073498  0.66764661 -0.63369973  0.29564507]\n",
      "[ 0.28211218  0.29122573 -0.46951     0.66465658  0.41640399]\n",
      "[ 0.1606255  -0.54458117 -0.29568717  0.70731342 -0.29984599]\n",
      "[-0.0892172   0.70544257  0.1651677   0.21882351  0.64747739]\n"
     ]
    }
   ],
   "source": [
    "for x in X_train:\n",
    "    print(x)"
   ]
  },
  {
   "cell_type": "code",
   "execution_count": 46,
   "metadata": {},
   "outputs": [],
   "source": [
    "#Assign the data and parameters to the circuit. Evolve the intial state.\n",
    "qc_list = []\n",
    "for x in X_train:\n",
    "    parameters = {}\n",
    "    # Assign the the data to the featuremap\n",
    "    for i, p in enumerate(feature_map.ordered_parameters):\n",
    "        parameters[p] = x[i]\n",
    "    # Assign the parameters_test to the variational circuit\n",
    "    for i, p in enumerate(var_form.ordered_parameters):\n",
    "        parameters[p] = parameters_test[i]\n",
    "    circ = circuit.assign_parameters(parameters)# Assign the parameters to the circuit\n",
    "    qc = sv.evolve(circ)# Evolve the intial state.\n",
    "    qc_list += [qc]"
   ]
  },
  {
   "cell_type": "code",
   "execution_count": 47,
   "metadata": {},
   "outputs": [
    {
     "data": {
      "text/plain": [
       "21"
      ]
     },
     "execution_count": 47,
     "metadata": {},
     "output_type": "execute_result"
    }
   ],
   "source": [
    "len(X_train)"
   ]
  },
  {
   "cell_type": "code",
   "execution_count": 48,
   "metadata": {},
   "outputs": [
    {
     "data": {
      "text/plain": [
       "21"
      ]
     },
     "execution_count": 48,
     "metadata": {},
     "output_type": "execute_result"
    }
   ],
   "source": [
    "len(qc_list)# Number of statevectors"
   ]
  },
  {
   "cell_type": "code",
   "execution_count": 49,
   "metadata": {},
   "outputs": [
    {
     "data": {
      "text/plain": [
       "Statevector([ 5.05567925e-02-1.77899480e-01j,\n",
       "             -1.87291636e-01-5.48253773e-02j,\n",
       "              1.26461705e-01-1.10051470e-01j,\n",
       "              1.69363766e-01-6.16587338e-02j,\n",
       "              1.50586949e-01-2.45285780e-02j,\n",
       "              1.38315511e-01+1.34505568e-01j,\n",
       "              2.76916285e-01-1.20084560e-01j,\n",
       "             -1.01228697e-01-1.33687560e-01j,\n",
       "              5.82984810e-02-7.66103507e-03j,\n",
       "              1.80522224e-01+6.63001329e-02j,\n",
       "              1.75883771e-01-1.23158887e-04j,\n",
       "             -2.97614013e-02-3.84532225e-02j,\n",
       "              1.21547391e-01-5.33151597e-02j,\n",
       "             -2.17446857e-01-2.92709015e-02j,\n",
       "              4.54607731e-02-4.40052836e-02j,\n",
       "              8.33217268e-02-2.05726423e-01j,\n",
       "              5.90658557e-02-2.31385289e-01j,\n",
       "              1.12217450e-02-2.05019931e-02j,\n",
       "              7.49402746e-02+1.03413431e-01j,\n",
       "              2.57267573e-01-9.44721860e-02j,\n",
       "              5.19362830e-03-1.54252976e-01j,\n",
       "             -2.00735859e-01+7.84482834e-02j,\n",
       "             -1.45188756e-01+2.28532142e-02j,\n",
       "             -7.18124758e-02-1.59913158e-01j,\n",
       "             -7.70288725e-02-7.53330558e-04j,\n",
       "             -2.72514963e-01+4.87335174e-02j,\n",
       "             -2.16788133e-01-8.12419747e-02j,\n",
       "             -2.10378054e-04+4.76214285e-02j,\n",
       "              2.22750589e-02-1.02149872e-01j,\n",
       "              3.61370850e-02+5.55798218e-02j,\n",
       "              5.75917179e-02+1.23874580e-01j,\n",
       "              1.71976294e-01-1.45027669e-01j],\n",
       "            dims=(2, 2, 2, 2, 2))"
      ]
     },
     "execution_count": 49,
     "metadata": {},
     "output_type": "execute_result"
    }
   ],
   "source": [
    "qc_list[1] # Example of one of the statevectors"
   ]
  },
  {
   "cell_type": "code",
   "execution_count": 50,
   "metadata": {},
   "outputs": [
    {
     "data": {
      "text/plain": [
       "{'00000': 0.034204214271367786,\n",
       " '00001': 0.03808397901528589,\n",
       " '00010': 0.02810388872930033,\n",
       " '00011': 0.03248588464885503,\n",
       " '00100': 0.023278080224647987,\n",
       " '00101': 0.03722292840846792,\n",
       " '00110': 0.09110293024164041,\n",
       " '00111': 0.02811961276823109,\n",
       " '01000': 0.0034574043407479362,\n",
       " '01001': 0.03698398101390403,\n",
       " '01010': 0.030935116093642964,\n",
       " '01011': 0.002364391327728621,\n",
       " '01100': 0.017616274522272105,\n",
       " '01101': 0.048139921167676576,\n",
       " '01110': 0.00400314686863857,\n",
       " '01111': 0.049265871455280656,\n",
       " '10000': 0.05702792750042202,\n",
       " '10001': 0.0005462592838164262,\n",
       " '10010': 0.016310382397990108,\n",
       " '10011': 0.07511159803925418,\n",
       " '10100': 0.023820954288399775,\n",
       " '10101': 0.04644901826449901,\n",
       " '10110': 0.021602044226508896,\n",
       " '10111': 0.03072924982498194,\n",
       " '11000': 0.005934014702656901,\n",
       " '11001': 0.07663936057266107,\n",
       " '11010': 0.05359735303127807,\n",
       " '11011': 0.0022678447118505978,\n",
       " '11100': 0.010930774549106778,\n",
       " '11101': 0.004395005502584799,\n",
       " '11110': 0.01866171747653748,\n",
       " '11111': 0.05060887052976375}"
      ]
     },
     "execution_count": 50,
     "metadata": {},
     "output_type": "execute_result"
    }
   ],
   "source": [
    "qc_list[1].to_counts() #Returns the statevector as a counts dict of probabilities."
   ]
  },
  {
   "cell_type": "code",
   "execution_count": 51,
   "metadata": {},
   "outputs": [
    {
     "data": {
      "text/plain": [
       "0.9999999999999997"
      ]
     },
     "execution_count": 51,
     "metadata": {},
     "output_type": "execute_result"
    }
   ],
   "source": [
    "sum(qc_list[1].to_counts().values()) # For normalization"
   ]
  },
  {
   "cell_type": "code",
   "execution_count": 52,
   "metadata": {},
   "outputs": [
    {
     "data": {
      "text/plain": [
       "{'Not_Fraud': 0, 'Fraud': 1}"
      ]
     },
     "execution_count": 52,
     "metadata": {},
     "output_type": "execute_result"
    }
   ],
   "source": [
    "result = {class_labels[0]: 0,class_labels[1]: 1} # Labels of the result\n",
    "result"
   ]
  },
  {
   "cell_type": "code",
   "execution_count": 53,
   "metadata": {},
   "outputs": [
    {
     "data": {
      "text/plain": [
       "dict_items([('00000', 0.015506987165337126), ('00001', 0.057295555412069245), ('00010', 0.013559074383256674), ('00011', 0.037572248828340524), ('00100', 0.0013196913304996405), ('00101', 0.030508696225657377), ('00110', 0.03214200370567743), ('00111', 0.0648417516886323), ('01000', 0.002291565362300796), ('01001', 0.04382090336829532), ('01010', 0.006963223083968264), ('01011', 0.11798594984641396), ('01100', 0.016771083060681927), ('01101', 0.05352717530002262), ('01110', 0.0038018729114785202), ('01111', 0.07988386270513687), ('10000', 0.00704658340383699), ('10001', 0.010479848275114442), ('10010', 0.023667424648482236), ('10011', 0.0012741682917756052), ('10100', 0.021348515959760894), ('10101', 0.062163802654638535), ('10110', 0.03144005895050885), ('10111', 0.04933288194255774), ('11000', 0.0015990560614458638), ('11001', 0.0025336237814422916), ('11010', 0.0014213648349408433), ('11011', 0.016878673471128234), ('11100', 0.10403179190182593), ('11101', 0.0015020535499097986), ('11110', 0.0186060678270462), ('11111', 0.06888244006781648)])"
      ]
     },
     "execution_count": 53,
     "metadata": {},
     "output_type": "execute_result"
    }
   ],
   "source": [
    "qc.to_counts().items()"
   ]
  },
  {
   "cell_type": "code",
   "execution_count": null,
   "metadata": {},
   "outputs": [],
   "source": []
  },
  {
   "cell_type": "markdown",
   "metadata": {},
   "source": [
    "# **Functions for the Variational Quantum classifier (VQC)**"
   ]
  },
  {
   "cell_type": "code",
   "execution_count": null,
   "metadata": {},
   "outputs": [],
   "source": []
  },
  {
   "cell_type": "code",
   "execution_count": null,
   "metadata": {},
   "outputs": [],
   "source": []
  },
  {
   "cell_type": "code",
   "execution_count": 54,
   "metadata": {},
   "outputs": [],
   "source": [
    "def assign_label(bit_string, class_labels):\n",
    "    r\"\"\"\n",
    "    ############################################\n",
    "    # Checks the parity of the bit string passed. If the parity is even, it returns a ‘fraud’ label and if the parity is odd it returns a ‘not_fraud’ label. \n",
    "    # This parity check is used in this paper: https://arxiv.org/pdf/1804.11326.pdf\n",
    "    #\n",
    "    # bit_string: bit representation of the results of the circuit\n",
    "    # class_labels: Not_fraud and fraud \n",
    "    # return: fraud or not_fraud\n",
    "    ###########################################\n",
    "    \"\"\"\n",
    "    hamming = []\n",
    "    for k in list(bit_string):\n",
    "        hamming.append(int(k))\n",
    "    hamming_weight = sum(hamming)\n",
    "   \n",
    "    is_odd_parity = hamming_weight & 1\n",
    "    if is_odd_parity:\n",
    "        return class_labels[1]\n",
    "    else:\n",
    "        return class_labels[0]"
   ]
  },
  {
   "cell_type": "code",
   "execution_count": 55,
   "metadata": {},
   "outputs": [],
   "source": [
    "def circuit_VQC(x_list, params, class_labels):\n",
    "    r\"\"\"\n",
    "    ############################################\n",
    "    # Compute the circuit for the VQC given the data and parameters\n",
    "    #\n",
    "    # x_list: Data features\n",
    "    # params: parameters for the circuits\n",
    "    # class_labels: Not_fraud and fraud \n",
    "    # return: probabilities of fraud or not_fraud\n",
    "    ###########################################\n",
    "    \"\"\"\n",
    "    qc_list = []\n",
    "    for x in x_list:\n",
    "        parameters = {}\n",
    "        # Assign the the data to the featuremap\n",
    "        for i, p in enumerate(feature_map.ordered_parameters):\n",
    "             parameters[p] = x[i]\n",
    "        # Assign the parameters_test to the variational circuit\n",
    "        for i, p in enumerate(var_form.ordered_parameters):\n",
    "            parameters[p] = parameters_test[i]\n",
    "        circ_ = circuit.assign_parameters(parameters) # Assign the parameters to the circuit\n",
    "        qc = sv.evolve(circ_) # Evolve the intial state.\n",
    "        qc_list += [qc]\n",
    "        probs = []\n",
    "        \n",
    "    for qc in qc_list:\n",
    "        counts = qc.to_counts() #Returns the statevector as a counts dict of probabilities.\n",
    "        shots = sum(counts.values())  # For normalization\n",
    "        result = {class_labels[0]: 0, class_labels[1]: 1} # Labels of the result\n",
    "        for key, item in counts.items():\n",
    "            label = assign_label(key, class_labels)\n",
    "            result[label] += counts[key]/shots\n",
    "        probs += [result]\n",
    "    return probs"
   ]
  },
  {
   "cell_type": "code",
   "execution_count": 56,
   "metadata": {},
   "outputs": [],
   "source": [
    "def mean_cost(probs, expected_label):\n",
    "    r\"\"\"\n",
    "    ############################################\n",
    "    # Give the cost of the expected label \n",
    "    #\n",
    "    # probs: probability given some parameters\n",
    "    # expected_label: the expected labels \n",
    "    # return: the mean cost\n",
    "    ####\n",
    "    \"\"\"\n",
    "    p = probs.get(expected_label)\n",
    "    actual, pred = np.array(1), np.array(p)\n",
    "    return np.square(np.subtract(actual,pred)).mean()"
   ]
  },
  {
   "cell_type": "code",
   "execution_count": 57,
   "metadata": {},
   "outputs": [],
   "source": [
    "def function_to_optimize(X, Y, class_labels):\n",
    "    r\"\"\"\n",
    "    ############################################\n",
    "    # Define the function to minimize given the train data and class labels\n",
    "    #\n",
    "    # X: Data features\n",
    "    # Y: Data clases (0 or 1)\n",
    "    # class_labels: Not_fraud and fraud \n",
    "    # return: The function to minimize\n",
    "    ###########################################\n",
    "    \"\"\"\n",
    "    def f(params):\n",
    "        r\"\"\"\n",
    "        ############################################\n",
    "        # Function that gives the cost for parameters \"params\"\n",
    "        #\n",
    "        # params: parameters\n",
    "        # return: cost\n",
    "        ###########################################\n",
    "        \"\"\"\n",
    "        cost = 0\n",
    "        training_labels = []\n",
    "        training_samples = []\n",
    "        for sample in X:\n",
    "            training_samples += [sample]\n",
    "        for label in Y:\n",
    "            if label == 0:\n",
    "                training_labels += [class_labels[0]]\n",
    "            elif label == 1:\n",
    "                training_labels += [class_labels[1]]\n",
    "        probs = circuit_VQC(training_samples, params, class_labels)\n",
    "        # evaluate costs for all classified samples\n",
    "        for i, prob in enumerate(probs):\n",
    "            cost += mean_cost(prob, training_labels[i])\n",
    "            cost /= len(training_samples)\n",
    "        cost_list.append(cost)\n",
    "        return cost # Returns the cost given the parameters\n",
    "    return f"
   ]
  },
  {
   "cell_type": "markdown",
   "metadata": {},
   "source": [
    "# **Optimization for the VQC**"
   ]
  },
  {
   "cell_type": "code",
   "execution_count": 58,
   "metadata": {},
   "outputs": [],
   "source": [
    "from scipy.optimize import minimize"
   ]
  },
  {
   "cell_type": "code",
   "execution_count": 59,
   "metadata": {},
   "outputs": [
    {
     "data": {
      "text/plain": [
       "     fun: 0.017372406946110936\n",
       "   maxcv: 0.0\n",
       " message: 'Optimization terminated successfully.'\n",
       "    nfev: 61\n",
       "  status: 1\n",
       " success: True\n",
       "       x: array([2.35330497, 5.97351416, 4.59925358, 3.76148219, 0.98029403,\n",
       "       0.98014248, 0.3649501 , 5.44234523, 3.77691701, 4.44895122])"
      ]
     },
     "execution_count": 59,
     "metadata": {},
     "output_type": "execute_result"
    }
   ],
   "source": [
    "cost_list = []\n",
    "#optimizer = ADAM(maxiter=100, ) # Other optimizer that can be used\n",
    "\n",
    "# define objective function for training\n",
    "objective_function = function_to_optimize(X_train, Y_train, class_labels)\n",
    "# randomly initialize the parameters\n",
    "np.random.seed(42)\n",
    "init_params = 2*np.pi*np.random.rand(n*(1)*2)\n",
    "# train classifier\n",
    "minim_solution = minimize(objective_function, init_params, method='COBYLA') # Minimization of scalar function of one or more variable from scipy\n",
    "minim_solution"
   ]
  },
  {
   "cell_type": "code",
   "execution_count": 60,
   "metadata": {},
   "outputs": [],
   "source": [
    "opt_params = minim_solution['x']"
   ]
  },
  {
   "cell_type": "code",
   "execution_count": 61,
   "metadata": {},
   "outputs": [
    {
     "data": {
      "text/plain": [
       "array([2.35330497, 5.97351416, 4.59925358, 3.76148219, 0.98029403,\n",
       "       0.98014248, 0.3649501 , 5.44234523, 3.77691701, 4.44895122])"
      ]
     },
     "execution_count": 61,
     "metadata": {},
     "output_type": "execute_result"
    }
   ],
   "source": [
    "opt_params"
   ]
  },
  {
   "cell_type": "code",
   "execution_count": 62,
   "metadata": {},
   "outputs": [],
   "source": [
    "def test_model(X, Y, class_labels, params):\n",
    "    accuracy = 0\n",
    "    training_labels = []\n",
    "    training_samples = []\n",
    "    for sample in X:\n",
    "        training_samples += [sample]\n",
    "    probs = circuit_VQC(training_samples, params, class_labels)\n",
    "    for i, prob in enumerate(probs):\n",
    "        if (prob.get('Fraud') >= prob.get('Not_Fraud')) and (Y_test[i] == 0):\n",
    "            accuracy += 1\n",
    "        elif (prob.get('Not_Fraud') >= prob.get('Fraud')) and (Y_test[i] == 1):\n",
    "            accuracy += 1\n",
    "    accuracy /= len(Y_test)\n",
    "    print(\"Test accuracy: {}\\n\".format(accuracy))"
   ]
  },
  {
   "cell_type": "code",
   "execution_count": 63,
   "metadata": {},
   "outputs": [
    {
     "name": "stdout",
     "output_type": "stream",
     "text": [
      "Test accuracy: 1.0\n",
      "\n"
     ]
    }
   ],
   "source": [
    "test_model(X_test, Y_test, class_labels, opt_params)"
   ]
  },
  {
   "cell_type": "markdown",
   "metadata": {},
   "source": [
    "# References\n",
    "\n",
    "1. https://nbviewer.jupyter.org/github/qiskit-community/qiskit-community-tutorials/blob/master/machine_learning/custom_feature_map.ipynb\n",
    "2. https://pennylane.ai/qml/demos/tutorial_variational_classifier.html\n",
    "3. https://pennylane.ai/qml/glossary/quantum_feature_map.html \n",
    "4. https://arxiv.org/abs/1703.10793"
   ]
  },
  {
   "cell_type": "code",
   "execution_count": null,
   "metadata": {},
   "outputs": [],
   "source": []
  }
 ],
 "metadata": {
  "kernelspec": {
   "display_name": "Python 3",
   "language": "python",
   "name": "python3"
  },
  "language_info": {
   "codemirror_mode": {
    "name": "ipython",
    "version": 3
   },
   "file_extension": ".py",
   "mimetype": "text/x-python",
   "name": "python",
   "nbconvert_exporter": "python",
   "pygments_lexer": "ipython3",
   "version": "3.8.3"
  }
 },
 "nbformat": 4,
 "nbformat_minor": 4
}
