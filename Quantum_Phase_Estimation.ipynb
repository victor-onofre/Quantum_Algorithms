{
 "cells": [
  {
   "cell_type": "markdown",
   "metadata": {},
   "source": [
    "# Quantum Phase Estimation\n",
    "\n",
    "**Victor Onofre**"
   ]
  },
  {
   "cell_type": "code",
   "execution_count": 1,
   "metadata": {},
   "outputs": [],
   "source": [
    "from qiskit import QuantumCircuit, QuantumRegister, ClassicalRegister, execute, Aer, IBMQ, BasicAer\n",
    "from qiskit.visualization import plot_bloch_multivector, plot_histogram\n",
    "from qiskit.quantum_info import Statevector\n",
    "import numpy as np \n",
    "import matplotlib"
   ]
  },
  {
   "cell_type": "code",
   "execution_count": 2,
   "metadata": {},
   "outputs": [],
   "source": [
    "style = {'backgroundcolor': 'lightyellow'} # Style of the circuits\n",
    "backend = BasicAer.get_backend('qasm_simulator')\n",
    "shots = 1024"
   ]
  },
  {
   "cell_type": "markdown",
   "metadata": {},
   "source": [
    "$$U |\\psi> = e^{i \\theta_{\\psi}} |\\psi> $$\n",
    "\n",
    "The quantum phase estimation algorithm extract $\\theta_{\\psi}$ given the ability to prepare $|\\psi>$"
   ]
  },
  {
   "cell_type": "markdown",
   "metadata": {},
   "source": [
    "## Step 0: Prepare the state "
   ]
  },
  {
   "cell_type": "markdown",
   "metadata": {},
   "source": [
    "$$ |\\phi_{0}> = |0>^{\\otimes^{n}} |\\psi> $$"
   ]
  },
  {
   "cell_type": "markdown",
   "metadata": {},
   "source": [
    "## Step 1: Apply the hadamard gate"
   ]
  },
  {
   "cell_type": "markdown",
   "metadata": {},
   "source": [
    "$$  |\\phi_{1}> = H^{\\otimes^{n}}|0>^{\\otimes^{n}} |\\psi>  = \\frac{1}{\\Big( \\sqrt{2} \\Big)^{n}} \\Big(|0> + |1>  \\Big)^{\\otimes^{n}} |\\psi>$$"
   ]
  },
  {
   "cell_type": "markdown",
   "metadata": {},
   "source": [
    "## Step 3: Apply the operator U"
   ]
  },
  {
   "cell_type": "markdown",
   "metadata": {},
   "source": [
    "$$ |\\phi_{2}> = \\frac{1}{\\Big( \\sqrt{2} \\Big)^{n}} \\Big(|0> +  e^{i \\theta_{\\psi} 2^{n-1} }|1>  \\Big) \\otimes \\Big(|0> +  e^{i \\theta_{\\psi} 2^{n-2} }|1>  \\Big) \\otimes...\\otimes \\Big(|0> +  e^{i \\theta_{\\psi} 2^{0} }|1>  \\Big)  |\\psi> $$"
   ]
  },
  {
   "cell_type": "markdown",
   "metadata": {},
   "source": [
    "## Step 3: Apply the inverse QFT"
   ]
  },
  {
   "cell_type": "markdown",
   "metadata": {},
   "source": [
    "$$  | \\widetilde{x} > = QFT|x> = \\frac{1}{\\sqrt{N}} \\Big( |0> + e^{\\frac{2\\pi i x}{2}} |1> \\Big) \\otimes \\Big( |0> + e^{\\frac{2\\pi i x}{2^{2}}} |1> \\Big) \\otimes... \\otimes \\Big( |0> + e^{\\frac{2\\pi i x}{2^{n}}} |1> \\Big)$$"
   ]
  },
  {
   "cell_type": "markdown",
   "metadata": {},
   "source": [
    "$$ |\\phi_{3}> = QFT^{-1} |\\phi_{2}> \\rightarrow \\text{Measurement in the computational basis} \\rightarrow  |2^{n} \\theta_{\\phi}> |\\phi>$$"
   ]
  },
  {
   "cell_type": "markdown",
   "metadata": {},
   "source": [
    "$$\\theta_{\\phi} =  \\frac{x}{2^{n}} $$"
   ]
  },
  {
   "cell_type": "markdown",
   "metadata": {},
   "source": [
    "# Initial state"
   ]
  },
  {
   "cell_type": "code",
   "execution_count": 3,
   "metadata": {},
   "outputs": [],
   "source": [
    "qc = QuantumCircuit(4,3)"
   ]
  },
  {
   "cell_type": "code",
   "execution_count": 4,
   "metadata": {},
   "outputs": [
    {
     "data": {
      "image/png": "[encoded data removed]",
      "text/plain": [
       "<Figure size 146.797x325.08 with 1 Axes>"
      ]
     },
     "execution_count": 4,
     "metadata": {},
     "output_type": "execute_result"
    }
   ],
   "source": [
    "qc.h(0)\n",
    "qc.h(1)\n",
    "qc.h(2)\n",
    "qc.x(3)\n",
    "\n",
    "qc.draw(output = 'mpl', style = style)"
   ]
  },
  {
   "cell_type": "markdown",
   "metadata": {},
   "source": [
    "$$|\\phi_{1}> = \\Big( H \\otimes H \\otimes H \\otimes X \\Big) |0>_{0}|0>_{1}|0>_{2} |0>_{3}$$"
   ]
  },
  {
   "cell_type": "markdown",
   "metadata": {},
   "source": [
    "$$|\\phi_{1}> = H|0>_{0}H|0>_{1}H|0>_{2} X|0>_{3}$$"
   ]
  },
  {
   "cell_type": "markdown",
   "metadata": {},
   "source": [
    "$$|\\phi_{1}> = \\frac{1}{\\sqrt{2}} \\Big(|0>_{0} + |1>_{0} \\Big) \\frac{1}{\\sqrt{2}} \\Big(|0>_{1} + |1>_{1} \\Big) \\frac{1}{\\sqrt{2}} \\Big(|0>_{2} + |1>_{2} \\Big) |1>_{3}$$"
   ]
  },
  {
   "cell_type": "markdown",
   "metadata": {},
   "source": [
    "$$|\\phi_{1}> = \\frac{1}{\\Big( \\sqrt{2} \\Big)^{3} } \\Big(|0>_{0} + |1>_{0} \\Big)  \\Big(|0>_{1} + |1>_{1} \\Big)  \\Big(|0>_{2} + |1>_{2} \\Big) |1>_{3}$$"
   ]
  },
  {
   "cell_type": "markdown",
   "metadata": {},
   "source": [
    "The $CP(\\theta)$ perform a phase rotation if both qubits are in the $|11 >$ state. With the matrix representation: "
   ]
  },
  {
   "cell_type": "markdown",
   "metadata": {},
   "source": [
    "$$CP(\\theta) = \\begin{bmatrix}1 & 0 & 0 & 0 \\\\ \n",
    "                              0 & 1 & 0 & 0\\\\ \n",
    "                              0 & 0 & 1 & 0\\\\\n",
    "                              0 & 0 & 0 & e^{i\\theta}\\end{bmatrix}$$"
   ]
  },
  {
   "cell_type": "markdown",
   "metadata": {},
   "source": [
    "# Part I : $\\theta_{\\phi} = \\pi/4$"
   ]
  },
  {
   "cell_type": "markdown",
   "metadata": {},
   "source": [
    "In this case $n=3$, rembering the step 3\n",
    "\n",
    "$$ |\\phi_{2}> = \\frac{1}{\\Big( \\sqrt{2} \\Big)^{n}} \\Big(|0> +  e^{i \\theta_{\\psi} 2^{n-1} }|1>  \\Big) \\otimes \\Big(|0> +  e^{i \\theta_{\\psi} 2^{n-2} }|1>  \\Big) \\otimes...\\otimes \\Big(|0> +  e^{i \\theta_{\\psi} 2^{0} }|1>  \\Big)  |\\psi> $$"
   ]
  },
  {
   "cell_type": "markdown",
   "metadata": {},
   "source": [
    "CP($\\theta$) will be apply to the first qubit $2^{3-3} = 2^{0} =1$ times"
   ]
  },
  {
   "cell_type": "code",
   "execution_count": 5,
   "metadata": {},
   "outputs": [
    {
     "data": {
      "image/png": "[encoded data removed]",
      "text/plain": [
       "<Figure size 206.997x325.08 with 1 Axes>"
      ]
     },
     "execution_count": 5,
     "metadata": {},
     "output_type": "execute_result"
    }
   ],
   "source": [
    "qc.cp(np.pi/4,0,3)\n",
    "\n",
    "qc.draw(output = 'mpl', style = style)"
   ]
  },
  {
   "cell_type": "markdown",
   "metadata": {},
   "source": [
    "$$|\\phi_{2}> = CP(\\pi/4)_{03}|\\phi_{1}> = \\frac{1}{\\Big( \\sqrt{2} \\Big)^{3} }  CP(\\pi/4)_{03} \\Big(|0>_{0}|1>_{3} + |1>_{0}|1>_{3} \\Big) \\Big(|0>_{1}|1>_{3} + |1>_{1}|1>_{3} \\Big) \\Big(|0>_{2}|1>_{3} + |1>_{2}|1>_{3} \\Big) $$"
   ]
  },
  {
   "cell_type": "markdown",
   "metadata": {},
   "source": [
    "$$|\\phi_{2}> = \\frac{1}{\\Big( \\sqrt{2} \\Big)^{3} }  \\Big(|0>_{0}|1>_{3} + e^{i\\pi/4}|1>_{0}|1>_{3} \\Big) \\Big(|0>_{1}|1>_{3} + |1>_{1}|1>_{3} \\Big) \\Big(|0>_{2}|1>_{3} + |1>_{2}|1>_{3} \\Big) $$"
   ]
  },
  {
   "cell_type": "markdown",
   "metadata": {},
   "source": [
    "# Part II"
   ]
  },
  {
   "cell_type": "markdown",
   "metadata": {},
   "source": [
    "CP($\\theta$) will be apply to the second qubit $2^{3-2}= 2^{1} =2 $ times "
   ]
  },
  {
   "cell_type": "code",
   "execution_count": 6,
   "metadata": {},
   "outputs": [
    {
     "data": {
      "image/png": "[encoded data removed]",
      "text/plain": [
       "<Figure size 327.397x325.08 with 1 Axes>"
      ]
     },
     "execution_count": 6,
     "metadata": {},
     "output_type": "execute_result"
    }
   ],
   "source": [
    "qc.cp(np.pi/4,1,3)\n",
    "qc.cp(np.pi/4,1,3)\n",
    "qc.draw(output = 'mpl', style = style)"
   ]
  },
  {
   "cell_type": "markdown",
   "metadata": {},
   "source": [
    "$$|\\phi_{3}> = CP(\\pi/4)_{13}CP(\\pi/4)_{13}|\\phi_{2}> = \\frac{1}{\\Big( \\sqrt{2} \\Big)^{3} }  \\Big(|0>_{0}|1>_{3} + e^{i\\pi/4}|1>_{0}|1>_{3} \\Big) CP(\\pi/4)_{13}CP(\\pi/4)_{13} \\Big(|0>_{1}|1>_{3} + |1>_{1}|1>_{3} \\Big) \\Big(|0>_{2}|1>_{3} + |1>_{2}|1>_{3} \\Big) $$"
   ]
  },
  {
   "cell_type": "markdown",
   "metadata": {},
   "source": [
    "$$|\\phi_{3}> = \\frac{1}{\\Big( \\sqrt{2} \\Big)^{3} }  \\Big(|0>_{0}|1>_{3} + e^{i\\pi/4}|1>_{0}|1>_{3} \\Big) CP(\\pi/4)_{13} \\Big(|0>_{1}|1>_{3} + e^{i\\pi/4} |1>_{1}|1>_{3} \\Big) \\Big(|0>_{2}|1>_{3} + |1>_{2}|1>_{3} \\Big) $$"
   ]
  },
  {
   "cell_type": "markdown",
   "metadata": {},
   "source": [
    "$$|\\phi_{3}> = \\frac{1}{\\Big( \\sqrt{2} \\Big)^{3} }  \\Big(|0>_{0}|1>_{3} + e^{i\\pi/4}|1>_{0}|1>_{3} \\Big) \\Big(|0>_{1}|1>_{3} + e^{i\\pi/4} e^{i\\pi/4}|1>_{1}|1>_{3} \\Big) \\Big(|0>_{2}|1>_{3} + |1>_{2}|1>_{3} \\Big) $$"
   ]
  },
  {
   "cell_type": "markdown",
   "metadata": {},
   "source": [
    "$$|\\phi_{3}> = \\frac{1}{\\Big( \\sqrt{2} \\Big)^{3} }  \\Big(|0>_{0}|1>_{3} + e^{i\\pi/4}|1>_{0}|1>_{3} \\Big) \\Big(|0>_{1}|1>_{3} + e^{ 2 (i\\pi/4)  }|1>_{1}|1>_{3} \\Big) \\Big(|0>_{2}|1>_{3} + |1>_{2}|1>_{3} \\Big) $$"
   ]
  },
  {
   "cell_type": "markdown",
   "metadata": {},
   "source": [
    "# Part III"
   ]
  },
  {
   "cell_type": "markdown",
   "metadata": {},
   "source": [
    "CP($\\theta$) will be apply to the third qubit $2^{3-1}= 2^{2} =4 $ times"
   ]
  },
  {
   "cell_type": "code",
   "execution_count": 7,
   "metadata": {},
   "outputs": [
    {
     "data": {
      "image/png": "[encoded data removed]",
      "text/plain": [
       "<Figure size 568.197x325.08 with 1 Axes>"
      ]
     },
     "execution_count": 7,
     "metadata": {},
     "output_type": "execute_result"
    }
   ],
   "source": [
    "qc.cp(np.pi/4,2,3)\n",
    "qc.cp(np.pi/4,2,3)\n",
    "qc.cp(np.pi/4,2,3)\n",
    "qc.cp(np.pi/4,2,3)\n",
    "qc.draw(output = 'mpl', style = style)"
   ]
  },
  {
   "cell_type": "markdown",
   "metadata": {},
   "source": [
    "$$|\\phi_{4}>  =  CP(\\pi/4)_{23}CP(\\pi/4)_{23} CP(\\pi/4)_{23}CP(\\pi/4)_{23}|\\phi_{3}> $$"
   ]
  },
  {
   "cell_type": "markdown",
   "metadata": {},
   "source": [
    "$$|\\phi_{4}>  =  \\frac{1}{\\Big( \\sqrt{2} \\Big)^{3} }  \\Big(|0>_{0}|1>_{3} + e^{i\\pi/4}|1>_{0}|1>_{3} \\Big) \\Big(|0>_{1}|1>_{3} + e^{ 2 (i\\pi/4)  }|1>_{1}|1>_{3} \\Big) CP(\\pi/4)_{23}CP(\\pi/4)_{23} CP(\\pi/4)_{23}CP(\\pi/4)_{23} \\Big(|0>_{2}|1>_{3} + |1>_{2}|1>_{3} \\Big) $$"
   ]
  },
  {
   "cell_type": "markdown",
   "metadata": {},
   "source": [
    "$$|\\phi_{4}> = \\frac{1}{\\Big( \\sqrt{2} \\Big)^{3} }  \\Big(|0>_{0}|1>_{3} + e^{i\\pi/4}|1>_{0}|1>_{3} \\Big) \\Big(|0>_{1}|1>_{3} + e^{ 2 (i\\pi/4)  }|1>_{1}|1>_{3} \\Big) \\Big(|0>_{2}|1>_{3} + e^{4(i\\pi/4)} |1>_{2}|1>_{3} \\Big) $$"
   ]
  },
  {
   "cell_type": "markdown",
   "metadata": {},
   "source": [
    "# Part IV: Apply the Inverse Quantum Fourier Transform"
   ]
  },
  {
   "cell_type": "code",
   "execution_count": 11,
   "metadata": {},
   "outputs": [
    {
     "data": {
      "image/png": "[encoded data removed]",
      "text/plain": [
       "<Figure size 688.597x325.08 with 1 Axes>"
      ]
     },
     "execution_count": 11,
     "metadata": {},
     "output_type": "execute_result"
    }
   ],
   "source": [
    "qc.barrier()\n",
    "qc.swap(0,2)\n",
    "qc.draw(output = 'mpl', style = style)"
   ]
  },
  {
   "cell_type": "markdown",
   "metadata": {},
   "source": [
    "$$|\\phi_{4}> = \\frac{1}{\\Big( \\sqrt{2} \\Big)^{3} }  \\Big(|0>_{0} + e^{i\\pi/4}|1>_{0} \\Big) \\Big(|0>_{1}+ e^{ 2 (i\\pi/4)  }|1>_{1} \\Big) \\Big(|0>_{2} + e^{4(i\\pi/4)} |1>_{2} \\Big) |1>_{3} $$"
   ]
  },
  {
   "cell_type": "markdown",
   "metadata": {},
   "source": [
    "$$|\\phi_{5}> = SWAP_{02}|\\phi_{4}> = \\frac{1}{\\Big( \\sqrt{2} \\Big)^{3} }  \\Big(|0>_{2} + e^{i\\pi/4}|1>_{2} \\Big) \\Big(|0>_{1}+ e^{ 2 (i\\pi/4)  }|1>_{1} \\Big) \\Big(|0>_{0} + e^{4(i\\pi/4)} |1>_{0} \\Big) |1>_{3} $$"
   ]
  },
  {
   "cell_type": "markdown",
   "metadata": {},
   "source": [
    "$$|\\phi_{5}> =\\frac{1}{\\Big( \\sqrt{2} \\Big)^{3} }  \\Big(|0>_{2} + e^{i\\pi/4}|1>_{2} \\Big) \\Big(|0>_{1}+ i|1>_{1} \\Big) \\Big(|0>_{0} -  |1>_{0} \\Big) |1>_{3} $$"
   ]
  },
  {
   "cell_type": "code",
   "execution_count": 12,
   "metadata": {},
   "outputs": [
    {
     "data": {
      "image/png": "[encoded data removed]",
      "text/plain": [
       "<Figure size 808.997x325.08 with 1 Axes>"
      ]
     },
     "execution_count": 12,
     "metadata": {},
     "output_type": "execute_result"
    }
   ],
   "source": [
    "qc.h(0)\n",
    "qc.cp(-np.pi/2, 0,1)\n",
    "qc.draw(output = 'mpl', style = style)"
   ]
  },
  {
   "cell_type": "markdown",
   "metadata": {},
   "source": [
    "$$|\\phi_{6}> = CP(-\\pi/2)_{01}H_{0}|\\phi_{5}> = \\frac{1}{\\Big( \\sqrt{2} \\Big)^{3} }  \\Big(|0>_{2} + e^{i\\pi/4}|1>_{2} \\Big)  CP(-\\pi/2)_{01} \\Big(|0>_{1}+ i|1>_{1} \\Big) H_{0} \\Big(|0>_{0} -  |1>_{0} \\Big) |1>_{3}$$"
   ]
  },
  {
   "cell_type": "markdown",
   "metadata": {},
   "source": [
    "$$|\\phi_{6}> = \\frac{1}{\\Big( \\sqrt{2} \\Big)^{2} }  \\Big(|0>_{2} + e^{i\\pi/4}|1>_{2} \\Big)  CP(-\\pi/2)_{01} \\Big(|0>_{1}+ i|1>_{1} \\Big) |1>_{0}  |1>_{3}$$"
   ]
  },
  {
   "cell_type": "markdown",
   "metadata": {},
   "source": [
    "$$|\\phi_{6}> = \\frac{1}{\\Big( \\sqrt{2} \\Big)^{2} }  \\Big(|0>_{2} + e^{i\\pi/4}|1>_{2} \\Big) \\Big(|0>_{1}+ i e^{-i\\pi/2} |1>_{1} \\Big) |1>_{0}  |1>_{3}$$"
   ]
  },
  {
   "cell_type": "markdown",
   "metadata": {},
   "source": [
    "$$|\\phi_{6}> = \\frac{1}{\\Big( \\sqrt{2} \\Big)^{2} }  \\Big(|0>_{2} + e^{i\\pi/4}|1>_{2} \\Big) \\Big(|0>_{1}+ i (-i) |1>_{1} \\Big) |1>_{0}  |1>_{3}$$"
   ]
  },
  {
   "cell_type": "markdown",
   "metadata": {},
   "source": [
    "$$|\\phi_{6}> = \\frac{1}{\\Big( \\sqrt{2} \\Big)^{2} }  \\Big(|0>_{2} + e^{i\\pi/4}|1>_{2} \\Big) \\Big(|0>_{1}+ |1>_{1} \\Big) |1>_{0}  |1>_{3}$$"
   ]
  },
  {
   "cell_type": "code",
   "execution_count": 13,
   "metadata": {},
   "outputs": [
    {
     "data": {
      "image/png": "[encoded data removed]",
      "text/plain": [
       "<Figure size 989.597x325.08 with 1 Axes>"
      ]
     },
     "execution_count": 13,
     "metadata": {},
     "output_type": "execute_result"
    }
   ],
   "source": [
    "qc.h(1)\n",
    "qc.cp(-np.pi/4, 0,2)\n",
    "qc.cp(-np.pi/2, 1,2)\n",
    "qc.draw(output = 'mpl', style = style)"
   ]
  },
  {
   "cell_type": "markdown",
   "metadata": {},
   "source": [
    "$$|\\phi_{7}> =  CP(-\\pi/2)_{12}  CP(-\\pi/4)_{02}H_{1}|\\phi_{6}> =  \\frac{1}{\\Big( \\sqrt{2} \\Big)^{2} }  CP(-\\pi/2)_{12}  CP(-\\pi/4)_{02}  \\Big(|0>_{2} + e^{i\\pi/4}|1>_{2} \\Big) H_{1} \\Big(|0>_{1}+ |1>_{1} \\Big) |1>_{0}  |1>_{3}$$"
   ]
  },
  {
   "cell_type": "markdown",
   "metadata": {},
   "source": [
    "$$|\\phi_{7}> =  \\frac{1}{ \\sqrt{2}  }  CP(-\\pi/2)_{12}  CP(-\\pi/4)_{02}  \\Big(|0>_{2} + e^{i\\pi/4}|1>_{2} \\Big) |0>_{1}|1>_{0}  |1>_{3}$$"
   ]
  },
  {
   "cell_type": "markdown",
   "metadata": {},
   "source": [
    "$$|\\phi_{7}> =   \\frac{1}{ \\sqrt{2}  }  CP(-\\pi/2)_{12} \\Big(|0>_{2} +  e^{-i\\pi/4} e^{i\\pi/4}|1>_{2} \\Big) |0>_{1}|1>_{0}  |1>_{3}$$"
   ]
  },
  {
   "cell_type": "markdown",
   "metadata": {},
   "source": [
    "$$|\\phi_{7}> =   \\frac{1}{ \\sqrt{2}  }  \\Big(|0>_{2} + |1>_{2} \\Big) |0>_{1}|1>_{0}  |1>_{3}$$"
   ]
  },
  {
   "cell_type": "code",
   "execution_count": 14,
   "metadata": {},
   "outputs": [
    {
     "data": {
      "image/png": "[encoded data removed]",
      "text/plain": [
       "<Figure size 1049.8x325.08 with 1 Axes>"
      ]
     },
     "execution_count": 14,
     "metadata": {},
     "output_type": "execute_result"
    }
   ],
   "source": [
    "qc.h(2)\n",
    "qc.draw(output = 'mpl', style = style)"
   ]
  },
  {
   "cell_type": "markdown",
   "metadata": {},
   "source": [
    "$$|\\phi_{9}> = H_{2} |\\phi_{8}> =  \\frac{1}{ \\sqrt{2}  } H_{2} \\Big(|0>_{2} + |1>_{2} \\Big) |0>_{1}|1>_{0}  |1>_{3}$$"
   ]
  },
  {
   "cell_type": "markdown",
   "metadata": {},
   "source": [
    "$$|\\phi_{9}> = |0>_{2} |0>_{1}|1>_{0}  |1>_{3}$$"
   ]
  },
  {
   "cell_type": "markdown",
   "metadata": {},
   "source": [
    "# Part V: Measure "
   ]
  },
  {
   "cell_type": "code",
   "execution_count": 15,
   "metadata": {},
   "outputs": [
    {
     "data": {
      "image/png": "[encoded data removed]",
      "text/plain": [
       "<Figure size 1290.6x325.08 with 1 Axes>"
      ]
     },
     "execution_count": 15,
     "metadata": {},
     "output_type": "execute_result"
    }
   ],
   "source": [
    "qc.barrier()\n",
    "qc.measure(0,0)\n",
    "qc.measure(1,1)\n",
    "qc.measure(2,2)\n",
    "    \n",
    "qc.draw(output = 'mpl', style = style)"
   ]
  },
  {
   "cell_type": "code",
   "execution_count": 16,
   "metadata": {},
   "outputs": [
    {
     "data": {
      "image/png": "[encoded data removed]",
      "text/plain": [
       "<Figure size 504x360 with 1 Axes>"
      ]
     },
     "execution_count": 16,
     "metadata": {},
     "output_type": "execute_result"
    }
   ],
   "source": [
    "results = execute(qc, backend=backend, shots=shots).result()\n",
    "answer = results.get_counts()\n",
    "\n",
    "plot_histogram(answer)"
   ]
  },
  {
   "cell_type": "markdown",
   "metadata": {},
   "source": [
    "# Part VI: Get $\\theta_{\\phi}$"
   ]
  },
  {
   "cell_type": "markdown",
   "metadata": {},
   "source": [
    "$$ |\\phi_{9}> =|0>_{2} |0>_{1}|1>_{0}  |1>_{3} \\rightarrow \\text{Measurement in the computational basis} \\rightarrow  |2^{n} \\theta_{\\phi}> |\\phi> =  |x>|\\phi>$$"
   ]
  },
  {
   "cell_type": "markdown",
   "metadata": {},
   "source": [
    "$$\\theta_{\\phi} =  \\frac{x}{2^{n}} $$"
   ]
  },
  {
   "cell_type": "markdown",
   "metadata": {},
   "source": [
    "$$ x = 2^{n-1}x_{1}+ 2^{n-2}x_{2}+...2^{0}x_{n} $$"
   ]
  },
  {
   "cell_type": "markdown",
   "metadata": {},
   "source": [
    "$$x = 001 \\quad n=3 \\quad x_{1} = 0 \\quad  x_{2} = 0  \\quad  x_{3} = 1 $$"
   ]
  },
  {
   "cell_type": "markdown",
   "metadata": {},
   "source": [
    "$$001 \\rightarrow 2^{3-1}(0)+2^{3-2}(0) + 2^{0}(1) $$"
   ]
  },
  {
   "cell_type": "markdown",
   "metadata": {},
   "source": [
    "$$001 \\rightarrow 1 $$"
   ]
  },
  {
   "cell_type": "markdown",
   "metadata": {},
   "source": [
    "$$\\theta_{\\phi} =  \\frac{1}{2^{3}} =  \\frac{1}{8}   $$"
   ]
  },
  {
   "cell_type": "markdown",
   "metadata": {},
   "source": [
    "Remembering that the QFT has a $2 \\pi$"
   ]
  },
  {
   "cell_type": "markdown",
   "metadata": {},
   "source": [
    "$$  | \\widetilde{x} > = QFT|x> = \\frac{1}{\\sqrt{N}} \\Big( |0> + e^{\\frac{2\\pi i x}{2}} |1> \\Big) \\otimes \\Big( |0> + e^{\\frac{2\\pi i x}{2^{2}}} |1> \\Big) \\otimes... \\otimes \\Big( |0> + e^{\\frac{2\\pi i x}{2^{n}}} |1> \\Big)$$"
   ]
  },
  {
   "cell_type": "markdown",
   "metadata": {},
   "source": [
    "$$\\theta_{\\phi} =   \\frac{2 \\pi}{8} =   \\frac{ \\pi}{4}  $$"
   ]
  },
  {
   "cell_type": "markdown",
   "metadata": {},
   "source": [
    "# References"
   ]
  },
  {
   "cell_type": "markdown",
   "metadata": {},
   "source": [
    "[1] Kaye, P. and Kaye, I.Q.C.P. and Laflamme, R. and Mosca, M. and Mosca, I.Q.C.M., An Introduction to Quantum Computing, OUP Oxford, 2007\n",
    "\n",
    "[2] https://qiskit.org/textbook/ch-algorithms/quantum-phase-estimation.html"
   ]
  },
  {
   "cell_type": "code",
   "execution_count": null,
   "metadata": {},
   "outputs": [],
   "source": []
  }
 ],
 "metadata": {
  "kernelspec": {
   "display_name": "Python 3",
   "language": "python",
   "name": "python3"
  },
  "language_info": {
   "codemirror_mode": {
    "name": "ipython",
    "version": 3
   },
   "file_extension": ".py",
   "mimetype": "text/x-python",
   "name": "python",
   "nbconvert_exporter": "python",
   "pygments_lexer": "ipython3",
   "version": "3.8.3"
  }
 },
 "nbformat": 4,
 "nbformat_minor": 4
}
